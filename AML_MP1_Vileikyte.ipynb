{
 "cells": [
  {
   "cell_type": "markdown",
   "metadata": {
    "tags": []
   },
   "source": [
    "<a id='main' name=\"main\"></a>\n",
    "# Vital Data Analysis\n",
    "\n",
    "Date: 2022.10.08  \n",
    "Author: © 2022 [Brigita Vileikytė](https://www.linkedin.com/in/brigita-vileikyte/)</br>\n",
    "Lecturer: © 2022 [Mantas Lukoševičius](https://mantas.info/)\n",
    "\n",
    "This notebook is part of an individual project for [KTU IF](https://fi.ktu.edu/)  [P176M010 Advanced Machine Learning](https://admissions.ktu.edu/programme/m-software-engineering/#P176M010) class led by [M. Lukoševičius](http://mantas.info/).\n",
    "\n",
    "In this work we answer the questions:\n",
    "1. [Is there any correlation between new deaths per million in a country on 2020 each month with the reproduction rate difference from 2020 to 2021?](#Q1)\n",
    "2. [How does stringency and new vaccinations in the country during pandemic affected new registered Covid cases per million in 2021?](#Q2)\n",
    "3. [How well can we classify European continent response for education format based on country's total new Covid case (per million), new and total vaccinations (per million), stringency index and ICU patients (per million) from 2020 to 2021?](#Q3)\n",
    "\n",
    "Using the open data from: \n",
    "* [Our World in Data](https://ourworldindata.org/) COVID-19 data from <https://covid.ourworldindata.org/data/owid-covid-data.csv>\n",
    "* [COVID-19 impact on education](https://data.world/liz-friedman/covid-19-impact-on-education) data from <https://data.world/> with registered account\n",
    "\n",
    "This notebook is partially based on:\n",
    "* Work by M. Lukoševičius lab examples\n",
    "* Multiple regression model testing variation is created based [on this publication](https://www.geeksforgeeks.org/multiclass-classification-using-scikit-learn/). Code has been modified from classification models to regression ones.\n",
    "\n",
    "This work is licensed under a <a rel=\"license\" href=\"http://creativecommons.org/licenses/by/4.0/\">Creative Commons Attribution 4.0 International license</a>. <a rel=\"license\" href=\"http://creativecommons.org/licenses/by/4.0/\"><img alt=\"Creative Commons licencija\" style=\"border-width:0\" src=\"https://i.creativecommons.org/l/by/4.0/80x15.png\" /></a> "
   ]
  },
  {
   "cell_type": "code",
   "execution_count": 1,
   "metadata": {},
   "outputs": [],
   "source": [
    "import numpy as np\n",
    "from numpy import NaN\n",
    "\n",
    "import pandas as pd\n",
    "import matplotlib.pyplot as plt\n",
    "import seaborn as sns\n",
    "from scipy import stats\n",
    "\n",
    "from datetime import datetime\n"
   ]
  },
  {
   "cell_type": "markdown",
   "metadata": {},
   "source": [
    "Importing sklearn helpers that are used among different computations in the solution"
   ]
  },
  {
   "cell_type": "code",
   "execution_count": 2,
   "metadata": {},
   "outputs": [],
   "source": [
    "from sklearn.pipeline import Pipeline\n",
    "from sklearn.preprocessing import StandardScaler\n",
    "\n",
    "from sklearn.metrics import mean_squared_error, r2_score, accuracy_score, balanced_accuracy_score, f1_score\n",
    "from sklearn.metrics import classification_report, confusion_matrix\n",
    "\n",
    "from sklearn import model_selection\n",
    "from sklearn.model_selection import train_test_split\n"
   ]
  },
  {
   "cell_type": "markdown",
   "metadata": {},
   "source": [
    "## Load the data"
   ]
  },
  {
   "cell_type": "markdown",
   "metadata": {},
   "source": [
    "Download the data to cache locally. Do this once (a day), and comment out, not to DoS the server. (adopted from https://stackoverflow.com/a/35997720)."
   ]
  },
  {
   "cell_type": "code",
   "execution_count": 3,
   "metadata": {},
   "outputs": [
    {
     "data": {
      "text/plain": [
       "63393155"
      ]
     },
     "execution_count": 3,
     "metadata": {},
     "output_type": "execute_result"
    }
   ],
   "source": [
    "# import requests\n",
    "# fname = 'owid-covid-data.csv'\n",
    "# url = 'https://covid.ourworldindata.org/data/' + fname\n",
    "# r = requests.get(url)\n",
    "# open(fname, 'wb').write(r.content)\n"
   ]
  },
  {
   "cell_type": "markdown",
   "metadata": {},
   "source": [
    "Load the file to Pandas."
   ]
  },
  {
   "cell_type": "code",
   "execution_count": 4,
   "metadata": {},
   "outputs": [],
   "source": [
    "#url = \"https://covid.ourworldindata.org/data/owid-covid-data.csv\"\n",
    "# download the file locally when developing, not to DoS the server:\n",
    "url = \"owid-covid-data.csv\"\n",
    "world_covid_df = pd.read_csv(url, parse_dates=[3])\n"
   ]
  },
  {
   "cell_type": "markdown",
   "metadata": {},
   "source": [
    "#### Getting base info about imported covid data set\n",
    "\n",
    " - View of a data set\n",
    " - Column details\n",
    " - Shape\n",
    " - Etc.\n",
    "\n",
    " The columns are explained [here](https://github.com/owid/covid-19-data/blob/master/public/data/owid-covid-codebook.csv).\n",
    "\n",
    "For quick data insights use:\n",
    " - ``data_set.head()``\n",
    " - ``data_set.info()``\n",
    " - ``data_set.describe()``\n",
    " - ``data_set.shape``"
   ]
  },
  {
   "cell_type": "code",
   "execution_count": 5,
   "metadata": {
    "scrolled": true
   },
   "outputs": [
    {
     "name": "stdout",
     "output_type": "stream",
     "text": [
      "Data set shape:\n",
      "(224018, 67)\n",
      "Data sample:\n"
     ]
    },
    {
     "data": {
      "text/html": [
       "<div>\n",
       "<style scoped>\n",
       "    .dataframe tbody tr th:only-of-type {\n",
       "        vertical-align: middle;\n",
       "    }\n",
       "\n",
       "    .dataframe tbody tr th {\n",
       "        vertical-align: top;\n",
       "    }\n",
       "\n",
       "    .dataframe thead th {\n",
       "        text-align: right;\n",
       "    }\n",
       "</style>\n",
       "<table border=\"1\" class=\"dataframe\">\n",
       "  <thead>\n",
       "    <tr style=\"text-align: right;\">\n",
       "      <th></th>\n",
       "      <th>iso_code</th>\n",
       "      <th>continent</th>\n",
       "      <th>location</th>\n",
       "      <th>date</th>\n",
       "      <th>total_cases</th>\n",
       "      <th>new_cases</th>\n",
       "      <th>new_cases_smoothed</th>\n",
       "      <th>total_deaths</th>\n",
       "      <th>new_deaths</th>\n",
       "      <th>new_deaths_smoothed</th>\n",
       "      <th>...</th>\n",
       "      <th>female_smokers</th>\n",
       "      <th>male_smokers</th>\n",
       "      <th>handwashing_facilities</th>\n",
       "      <th>hospital_beds_per_thousand</th>\n",
       "      <th>life_expectancy</th>\n",
       "      <th>human_development_index</th>\n",
       "      <th>excess_mortality_cumulative_absolute</th>\n",
       "      <th>excess_mortality_cumulative</th>\n",
       "      <th>excess_mortality</th>\n",
       "      <th>excess_mortality_cumulative_per_million</th>\n",
       "    </tr>\n",
       "  </thead>\n",
       "  <tbody>\n",
       "    <tr>\n",
       "      <th>0</th>\n",
       "      <td>AFG</td>\n",
       "      <td>Asia</td>\n",
       "      <td>Afghanistan</td>\n",
       "      <td>2020-02-24</td>\n",
       "      <td>5.0</td>\n",
       "      <td>5.0</td>\n",
       "      <td>NaN</td>\n",
       "      <td>NaN</td>\n",
       "      <td>NaN</td>\n",
       "      <td>NaN</td>\n",
       "      <td>...</td>\n",
       "      <td>NaN</td>\n",
       "      <td>NaN</td>\n",
       "      <td>37.746</td>\n",
       "      <td>0.5</td>\n",
       "      <td>64.83</td>\n",
       "      <td>0.511</td>\n",
       "      <td>NaN</td>\n",
       "      <td>NaN</td>\n",
       "      <td>NaN</td>\n",
       "      <td>NaN</td>\n",
       "    </tr>\n",
       "    <tr>\n",
       "      <th>1</th>\n",
       "      <td>AFG</td>\n",
       "      <td>Asia</td>\n",
       "      <td>Afghanistan</td>\n",
       "      <td>2020-02-25</td>\n",
       "      <td>5.0</td>\n",
       "      <td>0.0</td>\n",
       "      <td>NaN</td>\n",
       "      <td>NaN</td>\n",
       "      <td>NaN</td>\n",
       "      <td>NaN</td>\n",
       "      <td>...</td>\n",
       "      <td>NaN</td>\n",
       "      <td>NaN</td>\n",
       "      <td>37.746</td>\n",
       "      <td>0.5</td>\n",
       "      <td>64.83</td>\n",
       "      <td>0.511</td>\n",
       "      <td>NaN</td>\n",
       "      <td>NaN</td>\n",
       "      <td>NaN</td>\n",
       "      <td>NaN</td>\n",
       "    </tr>\n",
       "    <tr>\n",
       "      <th>2</th>\n",
       "      <td>AFG</td>\n",
       "      <td>Asia</td>\n",
       "      <td>Afghanistan</td>\n",
       "      <td>2020-02-26</td>\n",
       "      <td>5.0</td>\n",
       "      <td>0.0</td>\n",
       "      <td>NaN</td>\n",
       "      <td>NaN</td>\n",
       "      <td>NaN</td>\n",
       "      <td>NaN</td>\n",
       "      <td>...</td>\n",
       "      <td>NaN</td>\n",
       "      <td>NaN</td>\n",
       "      <td>37.746</td>\n",
       "      <td>0.5</td>\n",
       "      <td>64.83</td>\n",
       "      <td>0.511</td>\n",
       "      <td>NaN</td>\n",
       "      <td>NaN</td>\n",
       "      <td>NaN</td>\n",
       "      <td>NaN</td>\n",
       "    </tr>\n",
       "    <tr>\n",
       "      <th>3</th>\n",
       "      <td>AFG</td>\n",
       "      <td>Asia</td>\n",
       "      <td>Afghanistan</td>\n",
       "      <td>2020-02-27</td>\n",
       "      <td>5.0</td>\n",
       "      <td>0.0</td>\n",
       "      <td>NaN</td>\n",
       "      <td>NaN</td>\n",
       "      <td>NaN</td>\n",
       "      <td>NaN</td>\n",
       "      <td>...</td>\n",
       "      <td>NaN</td>\n",
       "      <td>NaN</td>\n",
       "      <td>37.746</td>\n",
       "      <td>0.5</td>\n",
       "      <td>64.83</td>\n",
       "      <td>0.511</td>\n",
       "      <td>NaN</td>\n",
       "      <td>NaN</td>\n",
       "      <td>NaN</td>\n",
       "      <td>NaN</td>\n",
       "    </tr>\n",
       "    <tr>\n",
       "      <th>4</th>\n",
       "      <td>AFG</td>\n",
       "      <td>Asia</td>\n",
       "      <td>Afghanistan</td>\n",
       "      <td>2020-02-28</td>\n",
       "      <td>5.0</td>\n",
       "      <td>0.0</td>\n",
       "      <td>NaN</td>\n",
       "      <td>NaN</td>\n",
       "      <td>NaN</td>\n",
       "      <td>NaN</td>\n",
       "      <td>...</td>\n",
       "      <td>NaN</td>\n",
       "      <td>NaN</td>\n",
       "      <td>37.746</td>\n",
       "      <td>0.5</td>\n",
       "      <td>64.83</td>\n",
       "      <td>0.511</td>\n",
       "      <td>NaN</td>\n",
       "      <td>NaN</td>\n",
       "      <td>NaN</td>\n",
       "      <td>NaN</td>\n",
       "    </tr>\n",
       "  </tbody>\n",
       "</table>\n",
       "<p>5 rows × 67 columns</p>\n",
       "</div>"
      ],
      "text/plain": [
       "  iso_code continent     location       date  total_cases  new_cases  \\\n",
       "0      AFG      Asia  Afghanistan 2020-02-24          5.0        5.0   \n",
       "1      AFG      Asia  Afghanistan 2020-02-25          5.0        0.0   \n",
       "2      AFG      Asia  Afghanistan 2020-02-26          5.0        0.0   \n",
       "3      AFG      Asia  Afghanistan 2020-02-27          5.0        0.0   \n",
       "4      AFG      Asia  Afghanistan 2020-02-28          5.0        0.0   \n",
       "\n",
       "   new_cases_smoothed  total_deaths  new_deaths  new_deaths_smoothed  ...  \\\n",
       "0                 NaN           NaN         NaN                  NaN  ...   \n",
       "1                 NaN           NaN         NaN                  NaN  ...   \n",
       "2                 NaN           NaN         NaN                  NaN  ...   \n",
       "3                 NaN           NaN         NaN                  NaN  ...   \n",
       "4                 NaN           NaN         NaN                  NaN  ...   \n",
       "\n",
       "   female_smokers  male_smokers  handwashing_facilities  \\\n",
       "0             NaN           NaN                  37.746   \n",
       "1             NaN           NaN                  37.746   \n",
       "2             NaN           NaN                  37.746   \n",
       "3             NaN           NaN                  37.746   \n",
       "4             NaN           NaN                  37.746   \n",
       "\n",
       "   hospital_beds_per_thousand  life_expectancy  human_development_index  \\\n",
       "0                         0.5            64.83                    0.511   \n",
       "1                         0.5            64.83                    0.511   \n",
       "2                         0.5            64.83                    0.511   \n",
       "3                         0.5            64.83                    0.511   \n",
       "4                         0.5            64.83                    0.511   \n",
       "\n",
       "   excess_mortality_cumulative_absolute  excess_mortality_cumulative  \\\n",
       "0                                   NaN                          NaN   \n",
       "1                                   NaN                          NaN   \n",
       "2                                   NaN                          NaN   \n",
       "3                                   NaN                          NaN   \n",
       "4                                   NaN                          NaN   \n",
       "\n",
       "   excess_mortality  excess_mortality_cumulative_per_million  \n",
       "0               NaN                                      NaN  \n",
       "1               NaN                                      NaN  \n",
       "2               NaN                                      NaN  \n",
       "3               NaN                                      NaN  \n",
       "4               NaN                                      NaN  \n",
       "\n",
       "[5 rows x 67 columns]"
      ]
     },
     "execution_count": 5,
     "metadata": {},
     "output_type": "execute_result"
    }
   ],
   "source": [
    "print(\"Data set shape:\")\n",
    "print(world_covid_df.shape)\n",
    "\n",
    "print(\"Data sample:\")\n",
    "world_covid_df.head(5)\n"
   ]
  },
  {
   "cell_type": "markdown",
   "metadata": {},
   "source": [
    "Quick world Covid data set review."
   ]
  },
  {
   "cell_type": "code",
   "execution_count": 6,
   "metadata": {},
   "outputs": [
    {
     "data": {
      "text/html": [
       "<div>\n",
       "<style scoped>\n",
       "    .dataframe tbody tr th:only-of-type {\n",
       "        vertical-align: middle;\n",
       "    }\n",
       "\n",
       "    .dataframe tbody tr th {\n",
       "        vertical-align: top;\n",
       "    }\n",
       "\n",
       "    .dataframe thead th {\n",
       "        text-align: right;\n",
       "    }\n",
       "</style>\n",
       "<table border=\"1\" class=\"dataframe\">\n",
       "  <thead>\n",
       "    <tr style=\"text-align: right;\">\n",
       "      <th></th>\n",
       "      <th>total_cases</th>\n",
       "      <th>new_cases</th>\n",
       "      <th>new_cases_smoothed</th>\n",
       "      <th>total_deaths</th>\n",
       "      <th>new_deaths</th>\n",
       "      <th>new_deaths_smoothed</th>\n",
       "      <th>total_cases_per_million</th>\n",
       "      <th>new_cases_per_million</th>\n",
       "      <th>new_cases_smoothed_per_million</th>\n",
       "      <th>total_deaths_per_million</th>\n",
       "      <th>...</th>\n",
       "      <th>female_smokers</th>\n",
       "      <th>male_smokers</th>\n",
       "      <th>handwashing_facilities</th>\n",
       "      <th>hospital_beds_per_thousand</th>\n",
       "      <th>life_expectancy</th>\n",
       "      <th>human_development_index</th>\n",
       "      <th>excess_mortality_cumulative_absolute</th>\n",
       "      <th>excess_mortality_cumulative</th>\n",
       "      <th>excess_mortality</th>\n",
       "      <th>excess_mortality_cumulative_per_million</th>\n",
       "    </tr>\n",
       "  </thead>\n",
       "  <tbody>\n",
       "    <tr>\n",
       "      <th>count</th>\n",
       "      <td>2.148420e+05</td>\n",
       "      <td>2.145690e+05</td>\n",
       "      <td>2.133730e+05</td>\n",
       "      <td>1.956780e+05</td>\n",
       "      <td>195605.000000</td>\n",
       "      <td>194425.000000</td>\n",
       "      <td>213860.000000</td>\n",
       "      <td>213587.000000</td>\n",
       "      <td>212396.000000</td>\n",
       "      <td>194709.000000</td>\n",
       "      <td>...</td>\n",
       "      <td>139000.000000</td>\n",
       "      <td>137097.000000</td>\n",
       "      <td>90389.000000</td>\n",
       "      <td>163419.000000</td>\n",
       "      <td>209334.000000</td>\n",
       "      <td>179110.00000</td>\n",
       "      <td>8.657000e+03</td>\n",
       "      <td>8657.000000</td>\n",
       "      <td>7750.000000</td>\n",
       "      <td>8657.000000</td>\n",
       "    </tr>\n",
       "    <tr>\n",
       "      <th>mean</th>\n",
       "      <td>4.372467e+06</td>\n",
       "      <td>1.241052e+04</td>\n",
       "      <td>1.244658e+04</td>\n",
       "      <td>7.353604e+04</td>\n",
       "      <td>139.410874</td>\n",
       "      <td>140.111789</td>\n",
       "      <td>59143.724299</td>\n",
       "      <td>189.657619</td>\n",
       "      <td>190.034430</td>\n",
       "      <td>685.613030</td>\n",
       "      <td>...</td>\n",
       "      <td>10.675398</td>\n",
       "      <td>32.809437</td>\n",
       "      <td>50.930707</td>\n",
       "      <td>3.089098</td>\n",
       "      <td>73.619310</td>\n",
       "      <td>0.72481</td>\n",
       "      <td>4.431805e+04</td>\n",
       "      <td>8.718123</td>\n",
       "      <td>14.001955</td>\n",
       "      <td>1088.545528</td>\n",
       "    </tr>\n",
       "    <tr>\n",
       "      <th>std</th>\n",
       "      <td>2.735676e+07</td>\n",
       "      <td>8.555378e+04</td>\n",
       "      <td>8.361741e+04</td>\n",
       "      <td>3.784089e+05</td>\n",
       "      <td>733.158343</td>\n",
       "      <td>718.730143</td>\n",
       "      <td>105141.548457</td>\n",
       "      <td>1053.474182</td>\n",
       "      <td>668.825112</td>\n",
       "      <td>971.519796</td>\n",
       "      <td>...</td>\n",
       "      <td>10.625905</td>\n",
       "      <td>13.534613</td>\n",
       "      <td>31.882545</td>\n",
       "      <td>2.552402</td>\n",
       "      <td>7.446108</td>\n",
       "      <td>0.14961</td>\n",
       "      <td>1.348950e+05</td>\n",
       "      <td>17.017667</td>\n",
       "      <td>26.912459</td>\n",
       "      <td>3159.348548</td>\n",
       "    </tr>\n",
       "    <tr>\n",
       "      <th>min</th>\n",
       "      <td>1.000000e+00</td>\n",
       "      <td>0.000000e+00</td>\n",
       "      <td>0.000000e+00</td>\n",
       "      <td>1.000000e+00</td>\n",
       "      <td>0.000000</td>\n",
       "      <td>0.000000</td>\n",
       "      <td>0.001000</td>\n",
       "      <td>0.000000</td>\n",
       "      <td>0.000000</td>\n",
       "      <td>0.000000</td>\n",
       "      <td>...</td>\n",
       "      <td>0.100000</td>\n",
       "      <td>7.700000</td>\n",
       "      <td>1.188000</td>\n",
       "      <td>0.100000</td>\n",
       "      <td>53.280000</td>\n",
       "      <td>0.39400</td>\n",
       "      <td>-2.793838e+05</td>\n",
       "      <td>-77.540000</td>\n",
       "      <td>-95.920000</td>\n",
       "      <td>-29168.813911</td>\n",
       "    </tr>\n",
       "    <tr>\n",
       "      <th>25%</th>\n",
       "      <td>4.234000e+03</td>\n",
       "      <td>0.000000e+00</td>\n",
       "      <td>6.143000e+00</td>\n",
       "      <td>1.120000e+02</td>\n",
       "      <td>0.000000</td>\n",
       "      <td>0.000000</td>\n",
       "      <td>1063.982500</td>\n",
       "      <td>0.000000</td>\n",
       "      <td>1.355750</td>\n",
       "      <td>29.176000</td>\n",
       "      <td>...</td>\n",
       "      <td>1.900000</td>\n",
       "      <td>21.600000</td>\n",
       "      <td>20.859000</td>\n",
       "      <td>1.300000</td>\n",
       "      <td>69.500000</td>\n",
       "      <td>0.60200</td>\n",
       "      <td>3.450000e+01</td>\n",
       "      <td>0.630000</td>\n",
       "      <td>-0.177500</td>\n",
       "      <td>33.540258</td>\n",
       "    </tr>\n",
       "    <tr>\n",
       "      <th>50%</th>\n",
       "      <td>4.810900e+04</td>\n",
       "      <td>5.500000e+01</td>\n",
       "      <td>9.528600e+01</td>\n",
       "      <td>1.158000e+03</td>\n",
       "      <td>1.000000</td>\n",
       "      <td>1.571000</td>\n",
       "      <td>10082.325000</td>\n",
       "      <td>7.707000</td>\n",
       "      <td>19.492500</td>\n",
       "      <td>209.939000</td>\n",
       "      <td>...</td>\n",
       "      <td>6.300000</td>\n",
       "      <td>31.400000</td>\n",
       "      <td>49.839000</td>\n",
       "      <td>2.500000</td>\n",
       "      <td>75.050000</td>\n",
       "      <td>0.74200</td>\n",
       "      <td>5.475800e+03</td>\n",
       "      <td>7.500000</td>\n",
       "      <td>7.235000</td>\n",
       "      <td>814.196157</td>\n",
       "    </tr>\n",
       "    <tr>\n",
       "      <th>75%</th>\n",
       "      <td>5.156450e+05</td>\n",
       "      <td>9.660000e+02</td>\n",
       "      <td>1.133143e+03</td>\n",
       "      <td>9.709000e+03</td>\n",
       "      <td>14.000000</td>\n",
       "      <td>15.857000</td>\n",
       "      <td>71288.586500</td>\n",
       "      <td>97.900500</td>\n",
       "      <td>136.075500</td>\n",
       "      <td>1015.987000</td>\n",
       "      <td>...</td>\n",
       "      <td>19.300000</td>\n",
       "      <td>41.300000</td>\n",
       "      <td>83.241000</td>\n",
       "      <td>4.200000</td>\n",
       "      <td>79.070000</td>\n",
       "      <td>0.84500</td>\n",
       "      <td>3.369160e+04</td>\n",
       "      <td>15.720000</td>\n",
       "      <td>19.735000</td>\n",
       "      <td>2139.058790</td>\n",
       "    </tr>\n",
       "    <tr>\n",
       "      <th>max</th>\n",
       "      <td>6.244073e+08</td>\n",
       "      <td>4.081747e+06</td>\n",
       "      <td>3.436276e+06</td>\n",
       "      <td>6.566861e+06</td>\n",
       "      <td>17737.000000</td>\n",
       "      <td>14858.286000</td>\n",
       "      <td>662430.093000</td>\n",
       "      <td>195005.313000</td>\n",
       "      <td>36401.607000</td>\n",
       "      <td>6431.914000</td>\n",
       "      <td>...</td>\n",
       "      <td>44.000000</td>\n",
       "      <td>78.100000</td>\n",
       "      <td>100.000000</td>\n",
       "      <td>13.800000</td>\n",
       "      <td>86.750000</td>\n",
       "      <td>0.95700</td>\n",
       "      <td>1.224011e+06</td>\n",
       "      <td>76.550000</td>\n",
       "      <td>376.510000</td>\n",
       "      <td>9766.306877</td>\n",
       "    </tr>\n",
       "  </tbody>\n",
       "</table>\n",
       "<p>8 rows × 62 columns</p>\n",
       "</div>"
      ],
      "text/plain": [
       "        total_cases     new_cases  new_cases_smoothed  total_deaths  \\\n",
       "count  2.148420e+05  2.145690e+05        2.133730e+05  1.956780e+05   \n",
       "mean   4.372467e+06  1.241052e+04        1.244658e+04  7.353604e+04   \n",
       "std    2.735676e+07  8.555378e+04        8.361741e+04  3.784089e+05   \n",
       "min    1.000000e+00  0.000000e+00        0.000000e+00  1.000000e+00   \n",
       "25%    4.234000e+03  0.000000e+00        6.143000e+00  1.120000e+02   \n",
       "50%    4.810900e+04  5.500000e+01        9.528600e+01  1.158000e+03   \n",
       "75%    5.156450e+05  9.660000e+02        1.133143e+03  9.709000e+03   \n",
       "max    6.244073e+08  4.081747e+06        3.436276e+06  6.566861e+06   \n",
       "\n",
       "          new_deaths  new_deaths_smoothed  total_cases_per_million  \\\n",
       "count  195605.000000        194425.000000            213860.000000   \n",
       "mean      139.410874           140.111789             59143.724299   \n",
       "std       733.158343           718.730143            105141.548457   \n",
       "min         0.000000             0.000000                 0.001000   \n",
       "25%         0.000000             0.000000              1063.982500   \n",
       "50%         1.000000             1.571000             10082.325000   \n",
       "75%        14.000000            15.857000             71288.586500   \n",
       "max     17737.000000         14858.286000            662430.093000   \n",
       "\n",
       "       new_cases_per_million  new_cases_smoothed_per_million  \\\n",
       "count          213587.000000                   212396.000000   \n",
       "mean              189.657619                      190.034430   \n",
       "std              1053.474182                      668.825112   \n",
       "min                 0.000000                        0.000000   \n",
       "25%                 0.000000                        1.355750   \n",
       "50%                 7.707000                       19.492500   \n",
       "75%                97.900500                      136.075500   \n",
       "max            195005.313000                    36401.607000   \n",
       "\n",
       "       total_deaths_per_million  ...  female_smokers   male_smokers  \\\n",
       "count             194709.000000  ...   139000.000000  137097.000000   \n",
       "mean                 685.613030  ...       10.675398      32.809437   \n",
       "std                  971.519796  ...       10.625905      13.534613   \n",
       "min                    0.000000  ...        0.100000       7.700000   \n",
       "25%                   29.176000  ...        1.900000      21.600000   \n",
       "50%                  209.939000  ...        6.300000      31.400000   \n",
       "75%                 1015.987000  ...       19.300000      41.300000   \n",
       "max                 6431.914000  ...       44.000000      78.100000   \n",
       "\n",
       "       handwashing_facilities  hospital_beds_per_thousand  life_expectancy  \\\n",
       "count            90389.000000               163419.000000    209334.000000   \n",
       "mean                50.930707                    3.089098        73.619310   \n",
       "std                 31.882545                    2.552402         7.446108   \n",
       "min                  1.188000                    0.100000        53.280000   \n",
       "25%                 20.859000                    1.300000        69.500000   \n",
       "50%                 49.839000                    2.500000        75.050000   \n",
       "75%                 83.241000                    4.200000        79.070000   \n",
       "max                100.000000                   13.800000        86.750000   \n",
       "\n",
       "       human_development_index  excess_mortality_cumulative_absolute  \\\n",
       "count             179110.00000                          8.657000e+03   \n",
       "mean                   0.72481                          4.431805e+04   \n",
       "std                    0.14961                          1.348950e+05   \n",
       "min                    0.39400                         -2.793838e+05   \n",
       "25%                    0.60200                          3.450000e+01   \n",
       "50%                    0.74200                          5.475800e+03   \n",
       "75%                    0.84500                          3.369160e+04   \n",
       "max                    0.95700                          1.224011e+06   \n",
       "\n",
       "       excess_mortality_cumulative  excess_mortality  \\\n",
       "count                  8657.000000       7750.000000   \n",
       "mean                      8.718123         14.001955   \n",
       "std                      17.017667         26.912459   \n",
       "min                     -77.540000        -95.920000   \n",
       "25%                       0.630000         -0.177500   \n",
       "50%                       7.500000          7.235000   \n",
       "75%                      15.720000         19.735000   \n",
       "max                      76.550000        376.510000   \n",
       "\n",
       "       excess_mortality_cumulative_per_million  \n",
       "count                              8657.000000  \n",
       "mean                               1088.545528  \n",
       "std                                3159.348548  \n",
       "min                              -29168.813911  \n",
       "25%                                  33.540258  \n",
       "50%                                 814.196157  \n",
       "75%                                2139.058790  \n",
       "max                                9766.306877  \n",
       "\n",
       "[8 rows x 62 columns]"
      ]
     },
     "execution_count": 6,
     "metadata": {},
     "output_type": "execute_result"
    }
   ],
   "source": [
    "world_covid_df.describe()\n"
   ]
  },
  {
   "cell_type": "code",
   "execution_count": 7,
   "metadata": {},
   "outputs": [
    {
     "name": "stdout",
     "output_type": "stream",
     "text": [
      "Base details about registered countries:\n"
     ]
    },
    {
     "data": {
      "text/plain": [
       "count     224018\n",
       "unique       244\n",
       "top          ARG\n",
       "freq        1019\n",
       "Name: iso_code, dtype: object"
      ]
     },
     "execution_count": 7,
     "metadata": {},
     "output_type": "execute_result"
    }
   ],
   "source": [
    "print(\"Base details about registered countries:\")\n",
    "world_covid_df['iso_code'].describe()\n",
    "\n",
    "# Uncomment if details about each registered country is needed\n",
    "# print(\"Country usage\")\n",
    "# covid_data_set['iso_code'].value_counts().head(15)\n"
   ]
  },
  {
   "cell_type": "markdown",
   "metadata": {},
   "source": [
    "### Declaring reusable functions and constants in the notebook"
   ]
  },
  {
   "cell_type": "markdown",
   "metadata": {},
   "source": [
    "Defining reusable constants in the project for unified diagrams and colors:"
   ]
  },
  {
   "cell_type": "code",
   "execution_count": 8,
   "metadata": {},
   "outputs": [],
   "source": [
    "default_figsize = (8, 6)\n",
    "square_figsize = (6, 6)\n",
    "extended_figsize = (14, 6)\n",
    "cmap_color = 'Blues'\n",
    "dark_blue = \"#123459\"\n",
    "blue = \"#2a69d5\"\n"
   ]
  },
  {
   "cell_type": "markdown",
   "metadata": {},
   "source": [
    "Defining reusable functions:"
   ]
  },
  {
   "cell_type": "code",
   "execution_count": 9,
   "metadata": {},
   "outputs": [],
   "source": [
    "def filter_by_time_range(data_frame: pd.DataFrame, date_from, date_to) -> pd.DataFrame:\n",
    "    data_frame = data_frame[((data_frame['date'] >= date_from) &\n",
    "                             (data_frame['date'] <= date_to))]\n",
    "    return data_frame\n"
   ]
  },
  {
   "cell_type": "markdown",
   "metadata": {},
   "source": [
    "Creating a reusable function for defining simple characteristics of regression models.</br></br>\n",
    "__RSME__ - _the standard deviation of the prediction errors. It tells you how concentrated the data is around the line of best fit.</br>_\n",
    "__R2_Score__ - _coefficient of determination: 1 is perfect prediction. It is a statistical measure that represents the proportion of the variance for a dependent variable that's explained by an independent variable or variables in a regression model. A constant model that always predicts the average y disregarding the input features would get a r*r score of 0.0._"
   ]
  },
  {
   "cell_type": "code",
   "execution_count": 10,
   "metadata": {},
   "outputs": [],
   "source": [
    "def define_predictions(regresion_model, expected_result, actual_result, print_coef=False, print_results=False) -> dict:\n",
    "    \"\"\"Printing out the model coefficiets.\\n Calculating RSME and R2 score based on expected and predicted values.\"\"\"\n",
    "    if print_coef:\n",
    "        if len(regresion_model.coef_) < 10:\n",
    "            print(\"Coefficients:\\n\", regresion_model.coef_)\n",
    "        else:\n",
    "            print(\"Coefficient array is too long to be displayed.\")\n",
    "\n",
    "    rsme = mean_squared_error(expected_result, actual_result, squared=False)\n",
    "    r2 = r2_score(expected_result, actual_result)\n",
    "\n",
    "    if print_results:\n",
    "        print(\"Mean squared error: %.2f\" % rsme)\n",
    "        print(\"Coefficient of determination: %.2f\\n\" % r2)\n",
    "\n",
    "    return {'RSME': rsme, 'R2_score': r2}\n"
   ]
  },
  {
   "cell_type": "code",
   "execution_count": 11,
   "metadata": {},
   "outputs": [],
   "source": [
    "def plot_model_results_metrics(results: pd.DataFrame, group_col: str, compare_col: str, compare_label: str,\n",
    "                               compare_col2: str, compare_label2: str, title: str, x_label: str):\n",
    "    plt.subplots(figsize=extended_figsize)\n",
    "    X_axis = np.arange(len(results[group_col]))\n",
    "\n",
    "    plt.bar(X_axis - 0.2, results[compare_col], 0.4,\n",
    "            color=dark_blue, label=compare_label)\n",
    "    plt.bar(X_axis + 0.2, results[compare_col2],\n",
    "            0.4, color=blue, label=compare_label2)\n",
    "            \n",
    "    plt.title(title)\n",
    "    plt.xlabel(x_label)\n",
    "    plt.xticks(X_axis, results[group_col])\n",
    "\n",
    "    plt.legend()"
   ]
  },
  {
   "cell_type": "markdown",
   "metadata": {},
   "source": [
    "[back to the top](#main)\n",
    "<a id='Q1' name='Q1'></a>\n",
    "## 1. Is there any __correlation__ between __new deaths per million__ in a country on 2020 each month with the __reproduction rate difference__ from 2020 to 2021?"
   ]
  },
  {
   "cell_type": "markdown",
   "metadata": {},
   "source": [
    "### Preparing the data"
   ]
  },
  {
   "cell_type": "markdown",
   "metadata": {},
   "source": [
    "Specifying the selected time ranges for analysis"
   ]
  },
  {
   "cell_type": "code",
   "execution_count": 12,
   "metadata": {},
   "outputs": [
    {
     "name": "stdout",
     "output_type": "stream",
     "text": [
      "Covid test cases time range from 2020-01-01 to 2020-12-31\n",
      "Reproduction rate in a country from 2021-01-01 to 2021-12-31\n"
     ]
    }
   ],
   "source": [
    "date_from_2020 = datetime(2020, 1, 1).strftime('%Y-%m-%d')\n",
    "date_to_2020 = datetime(2020, 12, 31).strftime('%Y-%m-%d')\n",
    "\n",
    "date_from_2021 = datetime(2021, 1, 1).strftime('%Y-%m-%d')\n",
    "date_to_2021 = datetime(2021, 12, 31).strftime('%Y-%m-%d')\n",
    "\n",
    "print(\"Covid test cases time range from %s to %s\" %\n",
    "      (date_from_2020, date_to_2020))\n",
    "print(\"Reproduction rate in a country from %s to %s\" %\n",
    "      (date_from_2021, date_to_2021))\n"
   ]
  },
  {
   "cell_type": "markdown",
   "metadata": {},
   "source": [
    "Splitting the data and taking only columns we are interested in"
   ]
  },
  {
   "cell_type": "code",
   "execution_count": 13,
   "metadata": {},
   "outputs": [],
   "source": [
    "world_covid_df['date'] = pd.to_datetime(world_covid_df['date'])\n",
    "minimzed_covid_df = world_covid_df[[\n",
    "    'iso_code', 'continent', 'date', 'total_cases_per_million', 'new_cases_per_million', 'new_deaths_per_million', 'reproduction_rate']]\n"
   ]
  },
  {
   "cell_type": "markdown",
   "metadata": {},
   "source": [
    "Converting categroical continent values to processable integer values that can be used for predictions later on."
   ]
  },
  {
   "cell_type": "code",
   "execution_count": 14,
   "metadata": {},
   "outputs": [
    {
     "name": "stdout",
     "output_type": "stream",
     "text": [
      "<class 'pandas.core.frame.DataFrame'>\n",
      "RangeIndex: 224018 entries, 0 to 224017\n",
      "Data columns (total 7 columns):\n",
      " #   Column                   Non-Null Count   Dtype         \n",
      "---  ------                   --------------   -----         \n",
      " 0   iso_code                 224018 non-null  object        \n",
      " 1   continent                224018 non-null  int8          \n",
      " 2   date                     224018 non-null  datetime64[ns]\n",
      " 3   total_cases_per_million  213860 non-null  float64       \n",
      " 4   new_cases_per_million    213587 non-null  float64       \n",
      " 5   new_deaths_per_million   194636 non-null  float64       \n",
      " 6   reproduction_rate        166717 non-null  float64       \n",
      "dtypes: datetime64[ns](1), float64(4), int8(1), object(1)\n",
      "memory usage: 10.5+ MB\n"
     ]
    },
    {
     "name": "stderr",
     "output_type": "stream",
     "text": [
      "C:\\Users\\Dell\\AppData\\Local\\Temp\\ipykernel_1568\\198960937.py:1: SettingWithCopyWarning: \n",
      "A value is trying to be set on a copy of a slice from a DataFrame.\n",
      "Try using .loc[row_indexer,col_indexer] = value instead\n",
      "\n",
      "See the caveats in the documentation: https://pandas.pydata.org/pandas-docs/stable/user_guide/indexing.html#returning-a-view-versus-a-copy\n",
      "  minimzed_covid_df['continent'] = minimzed_covid_df[[\n"
     ]
    }
   ],
   "source": [
    "minimzed_covid_df['continent'] = minimzed_covid_df[[\n",
    "    'continent']].apply(lambda continent: pd.Categorical(continent).codes)\n",
    "\n",
    "minimzed_covid_df.info()\n"
   ]
  },
  {
   "cell_type": "markdown",
   "metadata": {},
   "source": [
    "Seleting the time ranges of minimized data set.</br>\n",
    "Data sample is split into 2 sets for __2020__ and __2021__</br>"
   ]
  },
  {
   "cell_type": "code",
   "execution_count": 15,
   "metadata": {},
   "outputs": [],
   "source": [
    "minimized_covid_df_20 = filter_by_time_range(\n",
    "    minimzed_covid_df, date_from_2020, date_to_2020)\n",
    "minimized_covid_df_21 = filter_by_time_range(\n",
    "    minimzed_covid_df, date_from_2021, date_to_2021)\n"
   ]
  },
  {
   "cell_type": "code",
   "execution_count": 16,
   "metadata": {},
   "outputs": [],
   "source": [
    "minimized_covid_df_20 = minimized_covid_df_20.assign(\n",
    "    month_year=minimized_covid_df_20['date'].dt.to_period('M'))\n",
    "minimized_covid_df_21 = minimized_covid_df_21.assign(\n",
    "    month_year=minimized_covid_df_21['date'].dt.to_period('M'))\n"
   ]
  },
  {
   "cell_type": "markdown",
   "metadata": {},
   "source": [
    "Grouping data based on country and month. Aggregating other columns accordingly for 2020 data set:\n",
    " - **continent** - taking the first value\n",
    " - **total_cases_per_million** - taking the last value\n",
    " - **new_cases_per_million** - sum of all values over the month\n",
    " - **new_deaths_per_million** - sum of all the values over the month\n",
    " - **reproduction_rate** - taking the last record for the specified month\n",
    "\n",
    "Data set for 2021 will only require the same grouping by date and time. But we will not need additional columns besides reproduction rate. Therefore, for the 2021 data set we are dropping unnecessary values."
   ]
  },
  {
   "cell_type": "code",
   "execution_count": 17,
   "metadata": {},
   "outputs": [],
   "source": [
    "minimized_covid_df_20 = minimized_covid_df_20.groupby(['iso_code', 'month_year']).agg({\n",
    "    'date': 'first',\n",
    "    'continent': 'first',\n",
    "    'total_cases_per_million': 'last',\n",
    "    'new_cases_per_million': 'sum',\n",
    "    'new_deaths_per_million': 'sum',\n",
    "    'reproduction_rate': 'mean'\n",
    "}).reset_index()\n"
   ]
  },
  {
   "cell_type": "code",
   "execution_count": 18,
   "metadata": {},
   "outputs": [],
   "source": [
    "minimized_covid_df_21 = minimized_covid_df_21.groupby(['iso_code', 'month_year']).agg({\n",
    "    'date': 'first',\n",
    "    'continent': 'first',\n",
    "    'total_cases_per_million': 'last',\n",
    "    'new_cases_per_million': 'sum',\n",
    "    'new_deaths_per_million': 'sum',\n",
    "    'reproduction_rate': 'mean'\n",
    "}).reset_index()\n",
    "\n",
    "minimized_covid_df_21.drop(columns=['continent', 'total_cases_per_million',\n",
    "                           'total_cases_per_million', 'new_cases_per_million', 'new_deaths_per_million'], inplace=True)\n"
   ]
  },
  {
   "cell_type": "markdown",
   "metadata": {},
   "source": [
    "Calculating the new column for 2020 data set. We are getting the difference in value for reproduction rate based on the same months compared to 2021."
   ]
  },
  {
   "cell_type": "code",
   "execution_count": 19,
   "metadata": {},
   "outputs": [],
   "source": [
    "def get_equivalent_month_repr_rate(row_to_match, covid_df):\n",
    "    matching_row = covid_df[((covid_df['iso_code'] == row_to_match['iso_code']) & (covid_df['date'].dt.month == row_to_match['date'].month) & (\n",
    "        covid_df['date'].dt.day == row_to_match['date'].day))][:1]['reproduction_rate']\n",
    "\n",
    "    found_reproduction_rate = matching_row.iloc[0] if len(\n",
    "        matching_row) != 0 else NaN\n",
    "\n",
    "    returnValue = row_to_match['reproduction_rate'] - found_reproduction_rate\n",
    "\n",
    "    return returnValue\n"
   ]
  },
  {
   "cell_type": "code",
   "execution_count": 20,
   "metadata": {},
   "outputs": [],
   "source": [
    "reproduction_rate_diff_col = minimized_covid_df_20.apply(\n",
    "    lambda row: get_equivalent_month_repr_rate(row, minimized_covid_df_21), axis=1)\n",
    "\n",
    "minimized_covid_df_20 = minimized_covid_df_20.assign(\n",
    "    reproduction_rate_diff=reproduction_rate_diff_col.values)\n"
   ]
  },
  {
   "cell_type": "markdown",
   "metadata": {},
   "source": [
    "Droping non predictable outcomes and no longer relavent colums:"
   ]
  },
  {
   "cell_type": "code",
   "execution_count": 21,
   "metadata": {},
   "outputs": [],
   "source": [
    "minimized_covid_df_20 = minimized_covid_df_20.dropna(\n",
    "    subset=['reproduction_rate_diff'])\n",
    "\n",
    "minimized_covid_df_20.drop(['month_year'], axis=1, inplace=True)\n"
   ]
  },
  {
   "cell_type": "code",
   "execution_count": 22,
   "metadata": {},
   "outputs": [
    {
     "name": "stdout",
     "output_type": "stream",
     "text": [
      "<class 'pandas.core.frame.DataFrame'>\n",
      "Int64Index: 1606 entries, 11 to 2354\n",
      "Data columns (total 8 columns):\n",
      " #   Column                   Non-Null Count  Dtype         \n",
      "---  ------                   --------------  -----         \n",
      " 0   iso_code                 1606 non-null   object        \n",
      " 1   date                     1606 non-null   datetime64[ns]\n",
      " 2   continent                1606 non-null   int8          \n",
      " 3   total_cases_per_million  1606 non-null   float64       \n",
      " 4   new_cases_per_million    1606 non-null   float64       \n",
      " 5   new_deaths_per_million   1606 non-null   float64       \n",
      " 6   reproduction_rate        1606 non-null   float64       \n",
      " 7   reproduction_rate_diff   1606 non-null   float64       \n",
      "dtypes: datetime64[ns](1), float64(5), int8(1), object(1)\n",
      "memory usage: 101.9+ KB\n"
     ]
    }
   ],
   "source": [
    "minimized_covid_df_20.info()\n"
   ]
  },
  {
   "cell_type": "markdown",
   "metadata": {},
   "source": [
    "### Quick correlation visualisation"
   ]
  },
  {
   "cell_type": "markdown",
   "metadata": {},
   "source": [
    "Having a visual representation of correlation between the variables we are interested in:"
   ]
  },
  {
   "cell_type": "code",
   "execution_count": 23,
   "metadata": {},
   "outputs": [
    {
     "data": {
      "image/png": "[encoded data removed]",
      "text/plain": [
       "<Figure size 432x288 with 2 Axes>"
      ]
     },
     "metadata": {
      "needs_background": "light"
     },
     "output_type": "display_data"
    }
   ],
   "source": [
    "plt.figure()\n",
    "sns.heatmap(minimized_covid_df_20[['continent', 'new_cases_per_million',\n",
    "            'new_deaths_per_million', 'reproduction_rate_diff']].corr(), cmap=cmap_color)\n",
    "plt.show()\n"
   ]
  },
  {
   "cell_type": "markdown",
   "metadata": {},
   "source": [
    "Visualise the distribution of reproduction rate difference in 2021 based on new deaths per million in 2020.</br>\n",
    "Compute best linear fit.</br>\n",
    "\n",
    "_Visualisation is based on M. Lukoševičius notebook example._"
   ]
  },
  {
   "cell_type": "code",
   "execution_count": 24,
   "metadata": {},
   "outputs": [
    {
     "data": {
      "text/plain": [
       "[<matplotlib.lines.Line2D at 0x189d277fb50>]"
      ]
     },
     "execution_count": 24,
     "metadata": {},
     "output_type": "execute_result"
    },
    {
     "data": {
      "image/png": "[encoded data removed]",
      "text/plain": [
       "<Figure size 576x432 with 1 Axes>"
      ]
     },
     "metadata": {
      "needs_background": "light"
     },
     "output_type": "display_data"
    }
   ],
   "source": [
    "plt.figure(figsize=default_figsize)\n",
    "\n",
    "plt.xlabel('New deaths per million in a month')\n",
    "plt.ylabel('Reproduction rate difference in 2021')\n",
    "\n",
    "plt.scatter(minimized_covid_df_20.new_deaths_per_million,\n",
    "            minimized_covid_df_20.reproduction_rate_diff, color=dark_blue)\n",
    "\n",
    "coef = np.ma.polyfit(np.ma.masked_invalid(minimized_covid_df_20.new_deaths_per_million),\n",
    "                     np.ma.masked_invalid(minimized_covid_df_20.reproduction_rate_diff), deg=1)\n",
    "new_deaths_interval = np.linspace(minimized_covid_df_20.new_deaths_per_million.min(),\n",
    "                                  minimized_covid_df_20.new_deaths_per_million.max(), 100)\n",
    "\n",
    "\n",
    "plt.plot(new_deaths_interval, coef[1] + coef[0]\n",
    "         * new_deaths_interval, '-', color=blue)\n"
   ]
  },
  {
   "cell_type": "code",
   "execution_count": 25,
   "metadata": {},
   "outputs": [
    {
     "data": {
      "text/plain": [
       "-0.15821102614316637"
      ]
     },
     "execution_count": 25,
     "metadata": {},
     "output_type": "execute_result"
    }
   ],
   "source": [
    "np.ma.corrcoef(np.ma.log(np.ma.masked_invalid(minimized_covid_df_20.new_deaths_per_million)),\n",
    "               np.ma.log(np.ma.masked_invalid(minimized_covid_df_20.reproduction_rate_diff)))[0, 1]\n"
   ]
  },
  {
   "cell_type": "markdown",
   "metadata": {},
   "source": [
    "From the diagram and linear prediction visualisation we can see that there is little to none correlation between selected fields."
   ]
  },
  {
   "cell_type": "markdown",
   "metadata": {},
   "source": [
    "### Verifying the correlation between selected data"
   ]
  },
  {
   "cell_type": "markdown",
   "metadata": {},
   "source": [
    "After initial visualisation of data correlation it is visile that selected data doesn't correlate a lot. Moreover, data has a lot of outlier values.</br>\n",
    "We will remove the outlier values in the selected data based on __zscore__ for _new_deaths_per_million_ column. "
   ]
  },
  {
   "cell_type": "code",
   "execution_count": 26,
   "metadata": {},
   "outputs": [
    {
     "data": {
      "image/png": "[encoded data removed]",
      "text/plain": [
       "<Figure size 1152x648 with 2 Axes>"
      ]
     },
     "metadata": {
      "needs_background": "light"
     },
     "output_type": "display_data"
    }
   ],
   "source": [
    "fig, (ax1, ax2) = plt.subplots(nrows=1, ncols=2, figsize=(\n",
    "    default_figsize[0]*2, default_figsize[1]*1.5))\n",
    "\n",
    "ax1.set_title('Distribution of new deaths per million in 2020')\n",
    "ax1.set_ylabel('New deaths per million in a month')\n",
    "ax1.boxplot(minimized_covid_df_20.new_deaths_per_million,\n",
    "            notch=True, patch_artist=True)\n",
    "\n",
    "# filter out rows that have a big outline values on new_deaths_per_million column\n",
    "minimized_covid_df_20 = minimized_covid_df_20[(\n",
    "    np.abs(stats.zscore(minimized_covid_df_20['new_deaths_per_million'])) < 3)]\n",
    "\n",
    "ax2.set_title('Standardized distribution of new deaths per million in 2020')\n",
    "ax2.set_ylabel('New deaths per million in a month')\n",
    "ax2.boxplot(\n",
    "    minimized_covid_df_20['new_deaths_per_million'], notch=True, patch_artist=True)\n",
    "\n",
    "plt.show()\n"
   ]
  },
  {
   "cell_type": "markdown",
   "metadata": {},
   "source": [
    "Defining a helper function for plotting the predictions based on trained linear model results when the input is a single feature."
   ]
  },
  {
   "cell_type": "code",
   "execution_count": 27,
   "metadata": {},
   "outputs": [],
   "source": [
    "def plot_prediction_values(x_train, y_train, x_test, y_test, y_predicted, x_label: str, y_label: str, title: str):\n",
    "    plt.figure(figsize=default_figsize)\n",
    "\n",
    "    plt.scatter(x_train, y_train, color=dark_blue, label='Training points')\n",
    "    plt.scatter(x_test, y_test, color='b', label='Testing points')\n",
    "\n",
    "    # Forming new DF to sort the linear prediction values in order to have a better visualisation\n",
    "    predicted_df = pd.DataFrame(\n",
    "        {'x_test': x_test.reshape(-1), 'y_predicted': y_predicted}).sort_values(by=['x_test'])\n",
    "    plt.plot(predicted_df.x_test, predicted_df.y_predicted,\n",
    "             color=blue, linewidth=2, label='Predictions')\n",
    "\n",
    "    plt.title(title)\n",
    "    plt.xlabel(x_label)\n",
    "    plt.ylabel(y_label)\n",
    "    plt.legend()\n",
    "    plt.show()\n"
   ]
  },
  {
   "cell_type": "markdown",
   "metadata": {},
   "source": [
    "Defining a polynomial regression function that trains the linear regression model based on the given degree."
   ]
  },
  {
   "cell_type": "code",
   "execution_count": 28,
   "metadata": {},
   "outputs": [],
   "source": [
    "from sklearn.preprocessing import PolynomialFeatures\n",
    "from sklearn.linear_model import LinearRegression\n",
    "\n",
    "\n",
    "def polynomial_regression(poly_degree: int, x_train: np.array, y_train: np.array, x_test: np.array, y_test: np.array, plot_predictions=True) -> dict:\n",
    "    poly_ft = PolynomialFeatures(degree=poly_degree, include_bias=True)\n",
    "    linear_training_model = LinearRegression()\n",
    "\n",
    "    scaler = StandardScaler()\n",
    "    x_train = scaler.fit_transform(x_train)\n",
    "    x_test = scaler.transform(x_test)\n",
    "\n",
    "    x_train_transformed = poly_ft.fit_transform(x_train)\n",
    "    x_test_transformed = poly_ft.fit_transform(x_test)\n",
    "\n",
    "    prediction_model = linear_training_model.fit(x_train_transformed, y_train)\n",
    "    predicted_values = prediction_model.predict(x_test_transformed)\n",
    "\n",
    "    model_score = prediction_model.score(x_test_transformed, y_test)\n",
    "\n",
    "    if plot_predictions:\n",
    "        plot_prediction_values(x_train, y_train, x_test, y_test, predicted_values,\n",
    "                               'New deaths per month', 'Reproduction rate difference', f'Predictions with poly degree = {poly_degree}')\n",
    "\n",
    "    prediction_result = define_predictions(\n",
    "        prediction_model, y_test, predicted_values)\n",
    "    prediction_result['poly_degree'] = poly_degree\n",
    "    prediction_result['pred_score'] = model_score\n",
    "\n",
    "    return prediction_result\n"
   ]
  },
  {
   "cell_type": "markdown",
   "metadata": {},
   "source": [
    "Selecting the data we want to analyse and split it into testing and validation data sets.</br>\n",
    "After selecting the data we will reshape the training data sets into an expected numpy array format for linear regression models."
   ]
  },
  {
   "cell_type": "code",
   "execution_count": 29,
   "metadata": {},
   "outputs": [],
   "source": [
    "x_traing_new_deaths, x_test_new_deaths, y_train_repr_diff, y_test_repr_diff = train_test_split(\n",
    "    minimized_covid_df_20.new_deaths_per_million, minimized_covid_df_20.reproduction_rate_diff, test_size=0.3, random_state=10, shuffle=False)\n",
    "\n",
    "# Alternative x_training_new_deaths.values\n",
    "x_traing_new_deaths = np.array(x_traing_new_deaths).reshape(\n",
    "    len(x_traing_new_deaths), 1)\n",
    "x_test_new_deaths = np.array(x_test_new_deaths).reshape(\n",
    "    len(x_test_new_deaths), 1)\n"
   ]
  },
  {
   "cell_type": "code",
   "execution_count": 30,
   "metadata": {},
   "outputs": [
    {
     "data": {
      "image/png": "[encoded data removed]",
      "text/plain": [
       "<Figure size 576x432 with 1 Axes>"
      ]
     },
     "metadata": {
      "needs_background": "light"
     },
     "output_type": "display_data"
    },
    {
     "data": {
      "image/png": "[encoded data removed]",
      "text/plain": [
       "<Figure size 576x432 with 1 Axes>"
      ]
     },
     "metadata": {
      "needs_background": "light"
     },
     "output_type": "display_data"
    },
    {
     "data": {
      "image/png": "[encoded data removed]",
      "text/plain": [
       "<Figure size 576x432 with 1 Axes>"
      ]
     },
     "metadata": {
      "needs_background": "light"
     },
     "output_type": "display_data"
    },
    {
     "data": {
      "image/png": "[encoded data removed]",
      "text/plain": [
       "<Figure size 576x432 with 1 Axes>"
      ]
     },
     "metadata": {
      "needs_background": "light"
     },
     "output_type": "display_data"
    },
    {
     "data": {
      "image/png": "[encoded data removed]",
      "text/plain": [
       "<Figure size 576x432 with 1 Axes>"
      ]
     },
     "metadata": {
      "needs_background": "light"
     },
     "output_type": "display_data"
    }
   ],
   "source": [
    "polynomial_model_results = []\n",
    "\n",
    "for poly_degree in range(1, 10, 2):\n",
    "    regression_model_result = polynomial_regression(poly_degree, x_traing_new_deaths,\n",
    "                                                    y_train_repr_diff, x_test_new_deaths, y_test_repr_diff)\n",
    "\n",
    "    polynomial_model_results.append(regression_model_result)\n"
   ]
  },
  {
   "cell_type": "markdown",
   "metadata": {},
   "source": [
    "Creating the results table for the trained linear regression model:"
   ]
  },
  {
   "cell_type": "code",
   "execution_count": 31,
   "metadata": {},
   "outputs": [
    {
     "data": {
      "text/html": [
       "<div>\n",
       "<style scoped>\n",
       "    .dataframe tbody tr th:only-of-type {\n",
       "        vertical-align: middle;\n",
       "    }\n",
       "\n",
       "    .dataframe tbody tr th {\n",
       "        vertical-align: top;\n",
       "    }\n",
       "\n",
       "    .dataframe thead th {\n",
       "        text-align: right;\n",
       "    }\n",
       "</style>\n",
       "<table border=\"1\" class=\"dataframe\">\n",
       "  <thead>\n",
       "    <tr style=\"text-align: right;\">\n",
       "      <th></th>\n",
       "      <th>poly_degree</th>\n",
       "      <th>pred_score</th>\n",
       "      <th>RSME</th>\n",
       "      <th>R2_score</th>\n",
       "    </tr>\n",
       "  </thead>\n",
       "  <tbody>\n",
       "    <tr>\n",
       "      <th>0</th>\n",
       "      <td>1</td>\n",
       "      <td>0.000065</td>\n",
       "      <td>0.433636</td>\n",
       "      <td>0.000065</td>\n",
       "    </tr>\n",
       "    <tr>\n",
       "      <th>1</th>\n",
       "      <td>3</td>\n",
       "      <td>0.007191</td>\n",
       "      <td>0.432089</td>\n",
       "      <td>0.007191</td>\n",
       "    </tr>\n",
       "    <tr>\n",
       "      <th>2</th>\n",
       "      <td>5</td>\n",
       "      <td>0.018791</td>\n",
       "      <td>0.429557</td>\n",
       "      <td>0.018791</td>\n",
       "    </tr>\n",
       "    <tr>\n",
       "      <th>3</th>\n",
       "      <td>7</td>\n",
       "      <td>0.021713</td>\n",
       "      <td>0.428917</td>\n",
       "      <td>0.021713</td>\n",
       "    </tr>\n",
       "    <tr>\n",
       "      <th>4</th>\n",
       "      <td>9</td>\n",
       "      <td>0.023859</td>\n",
       "      <td>0.428446</td>\n",
       "      <td>0.023859</td>\n",
       "    </tr>\n",
       "  </tbody>\n",
       "</table>\n",
       "</div>"
      ],
      "text/plain": [
       "   poly_degree  pred_score      RSME  R2_score\n",
       "0            1    0.000065  0.433636  0.000065\n",
       "1            3    0.007191  0.432089  0.007191\n",
       "2            5    0.018791  0.429557  0.018791\n",
       "3            7    0.021713  0.428917  0.021713\n",
       "4            9    0.023859  0.428446  0.023859"
      ]
     },
     "execution_count": 31,
     "metadata": {},
     "output_type": "execute_result"
    }
   ],
   "source": [
    "trained_results = pd.DataFrame(polynomial_model_results)\n",
    "trained_results = trained_results.reindex(\n",
    "    columns=['poly_degree', 'pred_score', 'RSME', 'R2_score'])\n",
    "trained_results\n"
   ]
  },
  {
   "cell_type": "markdown",
   "metadata": {},
   "source": [
    "### Trying to predict reproduction rate difference with linear regressiong model with more input values for covid data set"
   ]
  },
  {
   "cell_type": "code",
   "execution_count": 32,
   "metadata": {},
   "outputs": [],
   "source": [
    "x_traing_new_cases, x_test_new_cases, y_train_repr_diff, y_test_repr_diff = train_test_split(\n",
    "    minimized_covid_df_20[['continent', 'total_cases_per_million', 'new_cases_per_million', 'new_deaths_per_million']], minimized_covid_df_20['reproduction_rate_diff'], test_size=0.3, random_state=40, shuffle=False)\n",
    "\n",
    "x_traing_new_cases = np.array(x_traing_new_cases).reshape(\n",
    "    len(x_traing_new_cases), len(x_traing_new_cases.columns))\n",
    "x_test_new_cases = np.array(x_test_new_cases).reshape(\n",
    "    len(x_test_new_cases), len(x_test_new_cases.columns))\n"
   ]
  },
  {
   "cell_type": "code",
   "execution_count": 33,
   "metadata": {},
   "outputs": [],
   "source": [
    "polynomial_multi_input_model_results = []\n",
    "\n",
    "for poly_degree in range(1, 6, 2):\n",
    "    regression_model_result = polynomial_regression(poly_degree, x_traing_new_cases,\n",
    "                                                    y_train_repr_diff, x_test_new_cases, y_test_repr_diff, False)\n",
    "\n",
    "    polynomial_multi_input_model_results.append(regression_model_result)\n"
   ]
  },
  {
   "cell_type": "markdown",
   "metadata": {},
   "source": [
    "Creating the results table for the trained linear regression model with multi-inputs:"
   ]
  },
  {
   "cell_type": "code",
   "execution_count": 34,
   "metadata": {},
   "outputs": [
    {
     "data": {
      "text/html": [
       "<div>\n",
       "<style scoped>\n",
       "    .dataframe tbody tr th:only-of-type {\n",
       "        vertical-align: middle;\n",
       "    }\n",
       "\n",
       "    .dataframe tbody tr th {\n",
       "        vertical-align: top;\n",
       "    }\n",
       "\n",
       "    .dataframe thead th {\n",
       "        text-align: right;\n",
       "    }\n",
       "</style>\n",
       "<table border=\"1\" class=\"dataframe\">\n",
       "  <thead>\n",
       "    <tr style=\"text-align: right;\">\n",
       "      <th></th>\n",
       "      <th>poly_degree</th>\n",
       "      <th>pred_score</th>\n",
       "      <th>RSME</th>\n",
       "      <th>R2_score</th>\n",
       "    </tr>\n",
       "  </thead>\n",
       "  <tbody>\n",
       "    <tr>\n",
       "      <th>0</th>\n",
       "      <td>1</td>\n",
       "      <td>0.032478</td>\n",
       "      <td>0.426550</td>\n",
       "      <td>0.032478</td>\n",
       "    </tr>\n",
       "    <tr>\n",
       "      <th>1</th>\n",
       "      <td>3</td>\n",
       "      <td>0.027770</td>\n",
       "      <td>0.427587</td>\n",
       "      <td>0.027770</td>\n",
       "    </tr>\n",
       "    <tr>\n",
       "      <th>2</th>\n",
       "      <td>5</td>\n",
       "      <td>-15.644141</td>\n",
       "      <td>1.769174</td>\n",
       "      <td>-15.644141</td>\n",
       "    </tr>\n",
       "  </tbody>\n",
       "</table>\n",
       "</div>"
      ],
      "text/plain": [
       "   poly_degree  pred_score      RSME   R2_score\n",
       "0            1    0.032478  0.426550   0.032478\n",
       "1            3    0.027770  0.427587   0.027770\n",
       "2            5  -15.644141  1.769174 -15.644141"
      ]
     },
     "execution_count": 34,
     "metadata": {},
     "output_type": "execute_result"
    }
   ],
   "source": [
    "trained_multi_input_results = pd.DataFrame(\n",
    "    polynomial_multi_input_model_results)\n",
    "trained_multi_input_results = trained_multi_input_results.reindex(\n",
    "    columns=['poly_degree', 'pred_score', 'RSME', 'R2_score'])\n",
    "trained_multi_input_results\n"
   ]
  },
  {
   "cell_type": "markdown",
   "metadata": {},
   "source": [
    "From the simplified prediction table, we can see that prediction results hadn't increased in a significant value even if we took more variables for the training of the model.</br>\n",
    "These very low linear regression prediction scores for the reproduction rate difference based on the Covid pandemic variables has to verify that reproduction rate wasn't solely impacted by the pandemic in the first year.</br>\n",
    "This can be expected and for sure varies among each country individually. But people most likely have others impacting economical and social features that impact of their decisions on creating/expanding the families."
   ]
  },
  {
   "cell_type": "markdown",
   "metadata": {},
   "source": [
    "[back to the top](#main)\n",
    "<a id='Q2' name='Q2'></a>\n",
    "## 2. How does stringency and vaccinations in the country during pandemic affected new registered Covid cases per million in 2021?"
   ]
  },
  {
   "cell_type": "markdown",
   "metadata": {},
   "source": [
    "### Preparing the data"
   ]
  },
  {
   "cell_type": "markdown",
   "metadata": {},
   "source": [
    "Selecting the data we will be interested in.</br>\n",
    "Filtering only relevant time ranges for the specified dataset.</br>"
   ]
  },
  {
   "cell_type": "code",
   "execution_count": 35,
   "metadata": {},
   "outputs": [],
   "source": [
    "vacinations_covid_df = world_covid_df[[\n",
    "    'iso_code', 'date', 'new_vaccinations_smoothed_per_million', 'people_vaccinated_per_hundred', 'stringency_index', 'new_cases_per_million']]\n",
    "vacinations_covid_df_21 = vacinations_covid_df[((vacinations_covid_df['date'] >= date_from_2021) &\n",
    "                                                (vacinations_covid_df['date'] <= date_to_2021))]\n"
   ]
  },
  {
   "cell_type": "markdown",
   "metadata": {},
   "source": [
    "Cleaning and preparing the data"
   ]
  },
  {
   "cell_type": "code",
   "execution_count": 36,
   "metadata": {},
   "outputs": [
    {
     "name": "stdout",
     "output_type": "stream",
     "text": [
      "<class 'pandas.core.frame.DataFrame'>\n",
      "Int64Index: 29014 entries, 370 to 223729\n",
      "Data columns (total 4 columns):\n",
      " #   Column                                 Non-Null Count  Dtype  \n",
      "---  ------                                 --------------  -----  \n",
      " 0   new_vaccinations_smoothed_per_million  29014 non-null  float64\n",
      " 1   people_vaccinated_per_hundred          29014 non-null  float64\n",
      " 2   stringency_index                       29014 non-null  float64\n",
      " 3   new_cases_per_million                  29014 non-null  float64\n",
      "dtypes: float64(4)\n",
      "memory usage: 1.1 MB\n"
     ]
    }
   ],
   "source": [
    "relev_data = vacinations_covid_df_21[[\n",
    "    'new_vaccinations_smoothed_per_million', 'people_vaccinated_per_hundred', 'stringency_index', 'new_cases_per_million']]\n",
    "\n",
    "relev_data = relev_data.dropna()\n",
    "\n",
    "relev_data.info()\n"
   ]
  },
  {
   "cell_type": "markdown",
   "metadata": {},
   "source": [
    "### Quick correlation visualisation"
   ]
  },
  {
   "cell_type": "code",
   "execution_count": 37,
   "metadata": {},
   "outputs": [
    {
     "data": {
      "image/png": "[encoded data removed]",
      "text/plain": [
       "<Figure size 432x288 with 2 Axes>"
      ]
     },
     "metadata": {
      "needs_background": "light"
     },
     "output_type": "display_data"
    }
   ],
   "source": [
    "plt.figure()\n",
    "sns.heatmap(relev_data.corr(), cmap=cmap_color)\n",
    "plt.show()\n"
   ]
  },
  {
   "cell_type": "markdown",
   "metadata": {},
   "source": [
    "### Creating and training the regression models"
   ]
  },
  {
   "cell_type": "code",
   "execution_count": 38,
   "metadata": {},
   "outputs": [],
   "source": [
    "X_train, X_test, y_train, y_test = train_test_split(relev_data[['new_vaccinations_smoothed_per_million',\n",
    "                                                                'people_vaccinated_per_hundred', 'stringency_index']],\n",
    "                                                    relev_data[[\n",
    "                                                        'new_cases_per_million']],\n",
    "                                                    test_size=0.3, random_state=15, shuffle=True)\n"
   ]
  },
  {
   "cell_type": "markdown",
   "metadata": {},
   "source": [
    "Selecting the models for regression predictions.</br>\n",
    "Models for multiclass classification had been selected based on [website](https://www.geeksforgeeks.org/multiclass-classification-using-scikit-learn/)"
   ]
  },
  {
   "cell_type": "code",
   "execution_count": 39,
   "metadata": {},
   "outputs": [],
   "source": [
    "from sklearn.linear_model import LinearRegression, Ridge, ElasticNet, BayesianRidge\n",
    "from sklearn.tree import DecisionTreeRegressor\n",
    "from sklearn.neighbors import KNeighborsRegressor\n",
    "\n",
    "models = [\n",
    "    ('LinearRegression', LinearRegression()),\n",
    "    ('Ridge', Ridge()),\n",
    "    ('ElasticNet', ElasticNet()),\n",
    "    ('BayesianRidge', BayesianRidge()),\n",
    "    ('DecisionTreeRegression', DecisionTreeRegressor()),\n",
    "    ('KNeighborsRegressor', KNeighborsRegressor())\n",
    "]\n"
   ]
  },
  {
   "cell_type": "markdown",
   "metadata": {},
   "source": [
    "Creating helper function for selecting the evaluation metrics for the trained regression model.</br></br>\n",
    "\n",
    "_For the most common use cases we can simply evaluate our model based on the simple scorer object with the scoring parameter. But if we want more details about how our regression model performs we can have additional metricts.</br>\n",
    "All scorer objects follow the convention that higher return values are better than lower return values. Thus metrics which measure the distance between the model and the data, like metrics.mean_squared_error, are available as neg_mean_squared_error which return the negated value of the metric._"
   ]
  },
  {
   "cell_type": "code",
   "execution_count": 40,
   "metadata": {},
   "outputs": [],
   "source": [
    "def get_regression_model_metrics(name, cv_results: dict,\n",
    "                                 y_train: np.array, y_train_pred: np.array, y_test: np.array, y_test_pred: np.array) -> dict:\n",
    "    round_precision = 3\n",
    "\n",
    "    mae_scores = cv_results['test_neg_root_mean_squared_error']\n",
    "    r2_scores = cv_results['test_r2']\n",
    "\n",
    "    train_r2 = r2_score(y_train, y_train_pred)\n",
    "    test_r2 = r2_score(y_test, y_test_pred)\n",
    "    train_rmse = mean_squared_error(y_train, y_train_pred, squared=False)\n",
    "    test_rmse = mean_squared_error(y_test, y_test_pred, squared=False)\n",
    "\n",
    "    return {\n",
    "        'model': name,\n",
    "        'kfold_rmea_score': round(mae_scores.mean(), round_precision),\n",
    "        'kfold_rmea_std': round(mae_scores.std(), round_precision),\n",
    "        'kfold_r2_score': round(r2_scores.mean(), round_precision),\n",
    "        'kfold_r2_std': round(r2_scores.std(), round_precision),\n",
    "        'train_rmse': round(train_rmse, round_precision),\n",
    "        'train_r2_score': round(train_r2, round_precision),\n",
    "        'test_rmse': round(test_rmse, round_precision),\n",
    "        'test_r2_score': round(test_r2, round_precision)\n",
    "    }\n"
   ]
  },
  {
   "cell_type": "markdown",
   "metadata": {},
   "source": [
    "_Training multiple models script is based [on the publication about](https://towardsdatascience.com/quickly-test-multiple-models-a98477476f0) trying to select the best classification model. The script is modified to fit personal needs and support regression models._"
   ]
  },
  {
   "cell_type": "code",
   "execution_count": 41,
   "metadata": {},
   "outputs": [],
   "source": [
    "def analyze_regression_models(X_train: pd.DataFrame, y_train: pd.DataFrame, X_test: pd.DataFrame, y_test: pd.DataFrame,\n",
    "                              models: list, scale_data=True) -> pd.DataFrame:\n",
    "    '''\n",
    "    Quickly train and evaluate given regression models that implement fix fuction with the K_Fold validation\n",
    "    :return: DataFrame of prediction results with RMEA, R2 scores\n",
    "    '''\n",
    "    results = []\n",
    "    scoring_metrics = ['max_error', 'neg_mean_squared_error',\n",
    "                       'neg_root_mean_squared_error', 'r2']\n",
    "\n",
    "    y_train = y_train.values.ravel()\n",
    "    y_test = y_test.values.ravel()\n",
    "\n",
    "    for model_name, regression_model in models:\n",
    "        if scale_data:\n",
    "            scaler = StandardScaler()\n",
    "            X_train = scaler.fit_transform(X_train)\n",
    "            X_test = scaler.transform(X_test)\n",
    "\n",
    "        kfold = model_selection.KFold(\n",
    "            n_splits=5, shuffle=True, random_state=30)\n",
    "        cv_results = model_selection.cross_validate(\n",
    "            regression_model, X_train, y_train, cv=kfold, scoring=scoring_metrics)\n",
    "\n",
    "        fully_trained_model = regression_model.fit(X_train, y_train)\n",
    "\n",
    "        train_set_pred = fully_trained_model.predict(X_train)\n",
    "        test_set_pred = fully_trained_model.predict(X_test)\n",
    "\n",
    "        model_res_dict = get_regression_model_metrics(\n",
    "            model_name, cv_results, y_train, train_set_pred, y_test, test_set_pred)\n",
    "        results.append(model_res_dict)\n",
    "\n",
    "    return pd.DataFrame(results)\n"
   ]
  },
  {
   "cell_type": "code",
   "execution_count": 42,
   "metadata": {},
   "outputs": [
    {
     "data": {
      "text/html": [
       "<div>\n",
       "<style scoped>\n",
       "    .dataframe tbody tr th:only-of-type {\n",
       "        vertical-align: middle;\n",
       "    }\n",
       "\n",
       "    .dataframe tbody tr th {\n",
       "        vertical-align: top;\n",
       "    }\n",
       "\n",
       "    .dataframe thead th {\n",
       "        text-align: right;\n",
       "    }\n",
       "</style>\n",
       "<table border=\"1\" class=\"dataframe\">\n",
       "  <thead>\n",
       "    <tr style=\"text-align: right;\">\n",
       "      <th></th>\n",
       "      <th>model</th>\n",
       "      <th>kfold_rmea_score</th>\n",
       "      <th>kfold_rmea_std</th>\n",
       "      <th>kfold_r2_score</th>\n",
       "      <th>kfold_r2_std</th>\n",
       "      <th>train_rmse</th>\n",
       "      <th>train_r2_score</th>\n",
       "      <th>test_rmse</th>\n",
       "      <th>test_r2_score</th>\n",
       "    </tr>\n",
       "  </thead>\n",
       "  <tbody>\n",
       "    <tr>\n",
       "      <th>0</th>\n",
       "      <td>LinearRegression</td>\n",
       "      <td>-310.997</td>\n",
       "      <td>15.275</td>\n",
       "      <td>0.032</td>\n",
       "      <td>0.006</td>\n",
       "      <td>311.278</td>\n",
       "      <td>0.032</td>\n",
       "      <td>317.380</td>\n",
       "      <td>0.033</td>\n",
       "    </tr>\n",
       "    <tr>\n",
       "      <th>1</th>\n",
       "      <td>Ridge</td>\n",
       "      <td>-310.997</td>\n",
       "      <td>15.275</td>\n",
       "      <td>0.032</td>\n",
       "      <td>0.006</td>\n",
       "      <td>311.278</td>\n",
       "      <td>0.032</td>\n",
       "      <td>317.380</td>\n",
       "      <td>0.033</td>\n",
       "    </tr>\n",
       "    <tr>\n",
       "      <th>2</th>\n",
       "      <td>ElasticNet</td>\n",
       "      <td>-310.997</td>\n",
       "      <td>15.275</td>\n",
       "      <td>0.032</td>\n",
       "      <td>0.006</td>\n",
       "      <td>311.278</td>\n",
       "      <td>0.032</td>\n",
       "      <td>317.380</td>\n",
       "      <td>0.033</td>\n",
       "    </tr>\n",
       "    <tr>\n",
       "      <th>3</th>\n",
       "      <td>BayesianRidge</td>\n",
       "      <td>-310.998</td>\n",
       "      <td>15.277</td>\n",
       "      <td>0.032</td>\n",
       "      <td>0.006</td>\n",
       "      <td>311.279</td>\n",
       "      <td>0.032</td>\n",
       "      <td>317.382</td>\n",
       "      <td>0.033</td>\n",
       "    </tr>\n",
       "    <tr>\n",
       "      <th>4</th>\n",
       "      <td>DecisionTreeRegression</td>\n",
       "      <td>-304.176</td>\n",
       "      <td>23.235</td>\n",
       "      <td>0.071</td>\n",
       "      <td>0.114</td>\n",
       "      <td>3.235</td>\n",
       "      <td>1.000</td>\n",
       "      <td>306.655</td>\n",
       "      <td>0.097</td>\n",
       "    </tr>\n",
       "    <tr>\n",
       "      <th>5</th>\n",
       "      <td>KNeighborsRegressor</td>\n",
       "      <td>-327.875</td>\n",
       "      <td>13.338</td>\n",
       "      <td>-0.077</td>\n",
       "      <td>0.021</td>\n",
       "      <td>266.555</td>\n",
       "      <td>0.290</td>\n",
       "      <td>324.884</td>\n",
       "      <td>-0.013</td>\n",
       "    </tr>\n",
       "  </tbody>\n",
       "</table>\n",
       "</div>"
      ],
      "text/plain": [
       "                    model  kfold_rmea_score  kfold_rmea_std  kfold_r2_score  \\\n",
       "0        LinearRegression          -310.997          15.275           0.032   \n",
       "1                   Ridge          -310.997          15.275           0.032   \n",
       "2              ElasticNet          -310.997          15.275           0.032   \n",
       "3           BayesianRidge          -310.998          15.277           0.032   \n",
       "4  DecisionTreeRegression          -304.176          23.235           0.071   \n",
       "5     KNeighborsRegressor          -327.875          13.338          -0.077   \n",
       "\n",
       "   kfold_r2_std  train_rmse  train_r2_score  test_rmse  test_r2_score  \n",
       "0         0.006     311.278           0.032    317.380          0.033  \n",
       "1         0.006     311.278           0.032    317.380          0.033  \n",
       "2         0.006     311.278           0.032    317.380          0.033  \n",
       "3         0.006     311.279           0.032    317.382          0.033  \n",
       "4         0.114       3.235           1.000    306.655          0.097  \n",
       "5         0.021     266.555           0.290    324.884         -0.013  "
      ]
     },
     "execution_count": 42,
     "metadata": {},
     "output_type": "execute_result"
    }
   ],
   "source": [
    "regression_model_results = analyze_regression_models(\n",
    "    X_train, y_train, X_test, y_test, models, False)\n",
    "\n",
    "regression_model_results\n"
   ]
  },
  {
   "cell_type": "code",
   "execution_count": 43,
   "metadata": {},
   "outputs": [
    {
     "data": {
      "image/png": "[encoded data removed]",
      "text/plain": [
       "<Figure size 1008x432 with 1 Axes>"
      ]
     },
     "metadata": {
      "needs_background": "light"
     },
     "output_type": "display_data"
    }
   ],
   "source": [
    "plot_model_results_metrics(regression_model_results, 'model', 'train_r2_score', 'Training R2 Score',\n",
    "                           'test_r2_score', 'Test R2 Score',\n",
    "                           'R2 score for each model', 'R2 score')\n"
   ]
  },
  {
   "cell_type": "markdown",
   "metadata": {},
   "source": [
    "So the models haven't performed very well when predicting new cases based on the feature inputs that had been selected. One thing to notice here is that the decision tree regression classifier actually had a very high R2 score on the training data set. It most likely memorized the data and didn't actually learned of it."
   ]
  },
  {
   "cell_type": "code",
   "execution_count": 44,
   "metadata": {},
   "outputs": [
    {
     "data": {
      "text/html": [
       "<div>\n",
       "<style scoped>\n",
       "    .dataframe tbody tr th:only-of-type {\n",
       "        vertical-align: middle;\n",
       "    }\n",
       "\n",
       "    .dataframe tbody tr th {\n",
       "        vertical-align: top;\n",
       "    }\n",
       "\n",
       "    .dataframe thead th {\n",
       "        text-align: right;\n",
       "    }\n",
       "</style>\n",
       "<table border=\"1\" class=\"dataframe\">\n",
       "  <thead>\n",
       "    <tr style=\"text-align: right;\">\n",
       "      <th></th>\n",
       "      <th>model</th>\n",
       "      <th>kfold_rmea_score</th>\n",
       "      <th>kfold_rmea_std</th>\n",
       "      <th>kfold_r2_score</th>\n",
       "      <th>kfold_r2_std</th>\n",
       "      <th>train_rmse</th>\n",
       "      <th>train_r2_score</th>\n",
       "      <th>test_rmse</th>\n",
       "      <th>test_r2_score</th>\n",
       "    </tr>\n",
       "  </thead>\n",
       "  <tbody>\n",
       "    <tr>\n",
       "      <th>0</th>\n",
       "      <td>LinearRegression</td>\n",
       "      <td>-310.997</td>\n",
       "      <td>15.275</td>\n",
       "      <td>0.032</td>\n",
       "      <td>0.006</td>\n",
       "      <td>311.278</td>\n",
       "      <td>0.032</td>\n",
       "      <td>317.380</td>\n",
       "      <td>0.033</td>\n",
       "    </tr>\n",
       "    <tr>\n",
       "      <th>1</th>\n",
       "      <td>Ridge</td>\n",
       "      <td>-310.997</td>\n",
       "      <td>15.275</td>\n",
       "      <td>0.032</td>\n",
       "      <td>0.006</td>\n",
       "      <td>311.278</td>\n",
       "      <td>0.032</td>\n",
       "      <td>317.380</td>\n",
       "      <td>0.033</td>\n",
       "    </tr>\n",
       "    <tr>\n",
       "      <th>2</th>\n",
       "      <td>ElasticNet</td>\n",
       "      <td>-311.580</td>\n",
       "      <td>15.237</td>\n",
       "      <td>0.028</td>\n",
       "      <td>0.004</td>\n",
       "      <td>311.893</td>\n",
       "      <td>0.028</td>\n",
       "      <td>318.119</td>\n",
       "      <td>0.029</td>\n",
       "    </tr>\n",
       "    <tr>\n",
       "      <th>3</th>\n",
       "      <td>BayesianRidge</td>\n",
       "      <td>-310.997</td>\n",
       "      <td>15.276</td>\n",
       "      <td>0.032</td>\n",
       "      <td>0.006</td>\n",
       "      <td>311.278</td>\n",
       "      <td>0.032</td>\n",
       "      <td>317.382</td>\n",
       "      <td>0.033</td>\n",
       "    </tr>\n",
       "    <tr>\n",
       "      <th>4</th>\n",
       "      <td>DecisionTreeRegression</td>\n",
       "      <td>-299.658</td>\n",
       "      <td>19.913</td>\n",
       "      <td>0.098</td>\n",
       "      <td>0.099</td>\n",
       "      <td>3.235</td>\n",
       "      <td>1.000</td>\n",
       "      <td>304.585</td>\n",
       "      <td>0.110</td>\n",
       "    </tr>\n",
       "    <tr>\n",
       "      <th>5</th>\n",
       "      <td>KNeighborsRegressor</td>\n",
       "      <td>-258.751</td>\n",
       "      <td>14.557</td>\n",
       "      <td>0.329</td>\n",
       "      <td>0.037</td>\n",
       "      <td>201.588</td>\n",
       "      <td>0.594</td>\n",
       "      <td>255.192</td>\n",
       "      <td>0.375</td>\n",
       "    </tr>\n",
       "  </tbody>\n",
       "</table>\n",
       "</div>"
      ],
      "text/plain": [
       "                    model  kfold_rmea_score  kfold_rmea_std  kfold_r2_score  \\\n",
       "0        LinearRegression          -310.997          15.275           0.032   \n",
       "1                   Ridge          -310.997          15.275           0.032   \n",
       "2              ElasticNet          -311.580          15.237           0.028   \n",
       "3           BayesianRidge          -310.997          15.276           0.032   \n",
       "4  DecisionTreeRegression          -299.658          19.913           0.098   \n",
       "5     KNeighborsRegressor          -258.751          14.557           0.329   \n",
       "\n",
       "   kfold_r2_std  train_rmse  train_r2_score  test_rmse  test_r2_score  \n",
       "0         0.006     311.278           0.032    317.380          0.033  \n",
       "1         0.006     311.278           0.032    317.380          0.033  \n",
       "2         0.004     311.893           0.028    318.119          0.029  \n",
       "3         0.006     311.278           0.032    317.382          0.033  \n",
       "4         0.099       3.235           1.000    304.585          0.110  \n",
       "5         0.037     201.588           0.594    255.192          0.375  "
      ]
     },
     "execution_count": 44,
     "metadata": {},
     "output_type": "execute_result"
    }
   ],
   "source": [
    "scaled_input_regression_model_results = analyze_regression_models(\n",
    "    X_train, y_train, X_test, y_test, models)\n",
    "\n",
    "scaled_input_regression_model_results\n"
   ]
  },
  {
   "cell_type": "code",
   "execution_count": 45,
   "metadata": {},
   "outputs": [
    {
     "data": {
      "image/png": "[encoded data removed]",
      "text/plain": [
       "<Figure size 1008x432 with 1 Axes>"
      ]
     },
     "metadata": {
      "needs_background": "light"
     },
     "output_type": "display_data"
    }
   ],
   "source": [
    "plot_model_results_metrics(scaled_input_regression_model_results, 'model', 'train_r2_score', 'Training R2 Score',\n",
    "                           'test_r2_score', 'Test R2 Score',\n",
    "                           'R2 score for each model', 'R2 score')\n"
   ]
  },
  {
   "cell_type": "markdown",
   "metadata": {},
   "source": [
    "[back to the top](#main)\n",
    "<a id='Q3' name='Q3'></a>\n",
    "## 3. How well can we classify European continent response for education format based on country's total new Covid case (per million), new and total vaccinations (per million), stringency index and ICU patients (per million) from 2020 to 2021? "
   ]
  },
  {
   "cell_type": "markdown",
   "metadata": {},
   "source": [
    "### Preparing the data"
   ]
  },
  {
   "cell_type": "markdown",
   "metadata": {},
   "source": [
    "Loading the dataset for education response to Covid cases from 2020 to 2021"
   ]
  },
  {
   "cell_type": "code",
   "execution_count": 46,
   "metadata": {},
   "outputs": [],
   "source": [
    "url = \"covid_impact_education.csv\"\n",
    "education_impact_df = pd.read_csv(url, parse_dates=[3])\n"
   ]
  },
  {
   "cell_type": "code",
   "execution_count": 47,
   "metadata": {},
   "outputs": [
    {
     "data": {
      "text/html": [
       "<div>\n",
       "<style scoped>\n",
       "    .dataframe tbody tr th:only-of-type {\n",
       "        vertical-align: middle;\n",
       "    }\n",
       "\n",
       "    .dataframe tbody tr th {\n",
       "        vertical-align: top;\n",
       "    }\n",
       "\n",
       "    .dataframe thead th {\n",
       "        text-align: right;\n",
       "    }\n",
       "</style>\n",
       "<table border=\"1\" class=\"dataframe\">\n",
       "  <thead>\n",
       "    <tr style=\"text-align: right;\">\n",
       "      <th></th>\n",
       "      <th>date</th>\n",
       "      <th>iso_code</th>\n",
       "      <th>country</th>\n",
       "      <th>school_status</th>\n",
       "      <th>note</th>\n",
       "    </tr>\n",
       "  </thead>\n",
       "  <tbody>\n",
       "    <tr>\n",
       "      <th>0</th>\n",
       "      <td>2020-02-17</td>\n",
       "      <td>ABW</td>\n",
       "      <td>Aruba</td>\n",
       "      <td>Fully open</td>\n",
       "      <td>NaN</td>\n",
       "    </tr>\n",
       "    <tr>\n",
       "      <th>1</th>\n",
       "      <td>2020-02-17</td>\n",
       "      <td>AFG</td>\n",
       "      <td>Afghanistan</td>\n",
       "      <td>Fully open</td>\n",
       "      <td>NaN</td>\n",
       "    </tr>\n",
       "    <tr>\n",
       "      <th>2</th>\n",
       "      <td>2020-02-17</td>\n",
       "      <td>AGO</td>\n",
       "      <td>Angola</td>\n",
       "      <td>Fully open</td>\n",
       "      <td>NaN</td>\n",
       "    </tr>\n",
       "    <tr>\n",
       "      <th>3</th>\n",
       "      <td>2020-02-17</td>\n",
       "      <td>AIA</td>\n",
       "      <td>Anguilla</td>\n",
       "      <td>Fully open</td>\n",
       "      <td>NaN</td>\n",
       "    </tr>\n",
       "    <tr>\n",
       "      <th>4</th>\n",
       "      <td>2020-02-17</td>\n",
       "      <td>ALB</td>\n",
       "      <td>Albania</td>\n",
       "      <td>Fully open</td>\n",
       "      <td>NaN</td>\n",
       "    </tr>\n",
       "    <tr>\n",
       "      <th>...</th>\n",
       "      <td>...</td>\n",
       "      <td>...</td>\n",
       "      <td>...</td>\n",
       "      <td>...</td>\n",
       "      <td>...</td>\n",
       "    </tr>\n",
       "    <tr>\n",
       "      <th>25615</th>\n",
       "      <td>2022-02-28</td>\n",
       "      <td>WSM</td>\n",
       "      <td>Samoa</td>\n",
       "      <td>Fully open</td>\n",
       "      <td>NaN</td>\n",
       "    </tr>\n",
       "    <tr>\n",
       "      <th>25616</th>\n",
       "      <td>2022-02-28</td>\n",
       "      <td>YEM</td>\n",
       "      <td>Yemen</td>\n",
       "      <td>Fully open</td>\n",
       "      <td>NaN</td>\n",
       "    </tr>\n",
       "    <tr>\n",
       "      <th>25617</th>\n",
       "      <td>2022-02-28</td>\n",
       "      <td>ZAF</td>\n",
       "      <td>South Africa</td>\n",
       "      <td>Fully open</td>\n",
       "      <td>NaN</td>\n",
       "    </tr>\n",
       "    <tr>\n",
       "      <th>25618</th>\n",
       "      <td>2022-02-28</td>\n",
       "      <td>ZMB</td>\n",
       "      <td>Zambia</td>\n",
       "      <td>Fully open</td>\n",
       "      <td>NaN</td>\n",
       "    </tr>\n",
       "    <tr>\n",
       "      <th>25619</th>\n",
       "      <td>2022-02-28</td>\n",
       "      <td>ZWE</td>\n",
       "      <td>Zimbabwe</td>\n",
       "      <td>Partially open</td>\n",
       "      <td>NaN</td>\n",
       "    </tr>\n",
       "  </tbody>\n",
       "</table>\n",
       "<p>25620 rows × 5 columns</p>\n",
       "</div>"
      ],
      "text/plain": [
       "            date iso_code       country   school_status note\n",
       "0     2020-02-17      ABW         Aruba      Fully open  NaN\n",
       "1     2020-02-17      AFG   Afghanistan      Fully open  NaN\n",
       "2     2020-02-17      AGO        Angola      Fully open  NaN\n",
       "3     2020-02-17      AIA      Anguilla      Fully open  NaN\n",
       "4     2020-02-17      ALB       Albania      Fully open  NaN\n",
       "...          ...      ...           ...             ...  ...\n",
       "25615 2022-02-28      WSM         Samoa      Fully open  NaN\n",
       "25616 2022-02-28      YEM         Yemen      Fully open  NaN\n",
       "25617 2022-02-28      ZAF  South Africa      Fully open  NaN\n",
       "25618 2022-02-28      ZMB        Zambia      Fully open  NaN\n",
       "25619 2022-02-28      ZWE      Zimbabwe  Partially open  NaN\n",
       "\n",
       "[25620 rows x 5 columns]"
      ]
     },
     "execution_count": 47,
     "metadata": {},
     "output_type": "execute_result"
    }
   ],
   "source": [
    "education_impact_df.columns = education_impact_df.columns.str.lower()\n",
    "\n",
    "education_impact_df.rename(\n",
    "    columns={\"iso\": \"iso_code\", \"status\": \"school_status\"}, inplace=True)\n",
    "education_impact_df['date'] = pd.to_datetime(\n",
    "    education_impact_df['date'], format='%d/%m/%Y', errors='coerce')\n",
    "\n",
    "education_impact_df\n"
   ]
  },
  {
   "cell_type": "markdown",
   "metadata": {},
   "source": [
    "Filtering only European continent related data"
   ]
  },
  {
   "cell_type": "code",
   "execution_count": 48,
   "metadata": {},
   "outputs": [],
   "source": [
    "eu_covid_df = world_covid_df[world_covid_df['continent'] == 'Europe'][['date', 'iso_code', 'location', 'new_cases_per_million',\n",
    "                                                                       'people_fully_vaccinated_per_hundred', 'new_people_vaccinated_smoothed_per_hundred', 'stringency_index', 'icu_patients_per_million']]\n"
   ]
  },
  {
   "cell_type": "markdown",
   "metadata": {},
   "source": [
    "Combining datasets based on country and the record date"
   ]
  },
  {
   "cell_type": "code",
   "execution_count": 49,
   "metadata": {},
   "outputs": [
    {
     "name": "stdout",
     "output_type": "stream",
     "text": [
      "(5576, 11)\n"
     ]
    },
    {
     "data": {
      "text/html": [
       "<div>\n",
       "<style scoped>\n",
       "    .dataframe tbody tr th:only-of-type {\n",
       "        vertical-align: middle;\n",
       "    }\n",
       "\n",
       "    .dataframe tbody tr th {\n",
       "        vertical-align: top;\n",
       "    }\n",
       "\n",
       "    .dataframe thead th {\n",
       "        text-align: right;\n",
       "    }\n",
       "</style>\n",
       "<table border=\"1\" class=\"dataframe\">\n",
       "  <thead>\n",
       "    <tr style=\"text-align: right;\">\n",
       "      <th></th>\n",
       "      <th>date</th>\n",
       "      <th>iso_code</th>\n",
       "      <th>location</th>\n",
       "      <th>new_cases_per_million</th>\n",
       "      <th>people_fully_vaccinated_per_hundred</th>\n",
       "      <th>new_people_vaccinated_smoothed_per_hundred</th>\n",
       "      <th>stringency_index</th>\n",
       "      <th>icu_patients_per_million</th>\n",
       "      <th>country</th>\n",
       "      <th>school_status</th>\n",
       "      <th>note</th>\n",
       "    </tr>\n",
       "  </thead>\n",
       "  <tbody>\n",
       "    <tr>\n",
       "      <th>0</th>\n",
       "      <td>2020-03-16</td>\n",
       "      <td>ALB</td>\n",
       "      <td>Albania</td>\n",
       "      <td>3.153</td>\n",
       "      <td>NaN</td>\n",
       "      <td>NaN</td>\n",
       "      <td>81.48</td>\n",
       "      <td>NaN</td>\n",
       "      <td>Albania</td>\n",
       "      <td>Closed due to COVID-19</td>\n",
       "      <td>NaN</td>\n",
       "    </tr>\n",
       "    <tr>\n",
       "      <th>1</th>\n",
       "      <td>2020-04-20</td>\n",
       "      <td>ALB</td>\n",
       "      <td>Albania</td>\n",
       "      <td>7.707</td>\n",
       "      <td>NaN</td>\n",
       "      <td>NaN</td>\n",
       "      <td>89.81</td>\n",
       "      <td>NaN</td>\n",
       "      <td>Albania</td>\n",
       "      <td>Academic break</td>\n",
       "      <td>NaN</td>\n",
       "    </tr>\n",
       "    <tr>\n",
       "      <th>2</th>\n",
       "      <td>2020-05-18</td>\n",
       "      <td>ALB</td>\n",
       "      <td>Albania</td>\n",
       "      <td>0.701</td>\n",
       "      <td>NaN</td>\n",
       "      <td>NaN</td>\n",
       "      <td>83.33</td>\n",
       "      <td>NaN</td>\n",
       "      <td>Albania</td>\n",
       "      <td>Partially open</td>\n",
       "      <td>NaN</td>\n",
       "    </tr>\n",
       "    <tr>\n",
       "      <th>3</th>\n",
       "      <td>2020-06-15</td>\n",
       "      <td>ALB</td>\n",
       "      <td>Albania</td>\n",
       "      <td>24.171</td>\n",
       "      <td>NaN</td>\n",
       "      <td>NaN</td>\n",
       "      <td>71.30</td>\n",
       "      <td>NaN</td>\n",
       "      <td>Albania</td>\n",
       "      <td>Partially open</td>\n",
       "      <td>NaN</td>\n",
       "    </tr>\n",
       "    <tr>\n",
       "      <th>4</th>\n",
       "      <td>2020-07-20</td>\n",
       "      <td>ALB</td>\n",
       "      <td>Albania</td>\n",
       "      <td>28.374</td>\n",
       "      <td>NaN</td>\n",
       "      <td>NaN</td>\n",
       "      <td>62.96</td>\n",
       "      <td>NaN</td>\n",
       "      <td>Albania</td>\n",
       "      <td>Academic break</td>\n",
       "      <td>NaN</td>\n",
       "    </tr>\n",
       "  </tbody>\n",
       "</table>\n",
       "</div>"
      ],
      "text/plain": [
       "        date iso_code location  new_cases_per_million  \\\n",
       "0 2020-03-16      ALB  Albania                  3.153   \n",
       "1 2020-04-20      ALB  Albania                  7.707   \n",
       "2 2020-05-18      ALB  Albania                  0.701   \n",
       "3 2020-06-15      ALB  Albania                 24.171   \n",
       "4 2020-07-20      ALB  Albania                 28.374   \n",
       "\n",
       "   people_fully_vaccinated_per_hundred  \\\n",
       "0                                  NaN   \n",
       "1                                  NaN   \n",
       "2                                  NaN   \n",
       "3                                  NaN   \n",
       "4                                  NaN   \n",
       "\n",
       "   new_people_vaccinated_smoothed_per_hundred  stringency_index  \\\n",
       "0                                         NaN             81.48   \n",
       "1                                         NaN             89.81   \n",
       "2                                         NaN             83.33   \n",
       "3                                         NaN             71.30   \n",
       "4                                         NaN             62.96   \n",
       "\n",
       "   icu_patients_per_million  country           school_status note  \n",
       "0                       NaN  Albania  Closed due to COVID-19  NaN  \n",
       "1                       NaN  Albania          Academic break  NaN  \n",
       "2                       NaN  Albania          Partially open  NaN  \n",
       "3                       NaN  Albania          Partially open  NaN  \n",
       "4                       NaN  Albania          Academic break  NaN  "
      ]
     },
     "execution_count": 49,
     "metadata": {},
     "output_type": "execute_result"
    }
   ],
   "source": [
    "combined_covid_data = pd.merge(eu_covid_df, education_impact_df,\n",
    "                               on=['iso_code', 'date'], how='inner')\n",
    "print(combined_covid_data.shape)\n",
    "combined_covid_data.head()\n"
   ]
  },
  {
   "cell_type": "markdown",
   "metadata": {},
   "source": [
    "Filtering and cleaning up the data by selected time range from 2020 to the end of 2021."
   ]
  },
  {
   "cell_type": "code",
   "execution_count": 50,
   "metadata": {},
   "outputs": [],
   "source": [
    "combined_covid_data = combined_covid_data.drop(\n",
    "    columns=['location', 'note', 'country'])\n",
    "combined_covid_data = filter_by_time_range(\n",
    "    combined_covid_data, date_from_2020, date_to_2021)\n"
   ]
  },
  {
   "cell_type": "code",
   "execution_count": 51,
   "metadata": {},
   "outputs": [
    {
     "data": {
      "text/plain": [
       "(2677, 8)"
      ]
     },
     "execution_count": 51,
     "metadata": {},
     "output_type": "execute_result"
    }
   ],
   "source": [
    "combined_covid_data['icu_patients_per_million'] = combined_covid_data['icu_patients_per_million'].fillna(\n",
    "    0)\n",
    "combined_covid_data['new_cases_per_million'] = combined_covid_data['new_cases_per_million'].fillna(\n",
    "    0)\n",
    "combined_covid_data['people_fully_vaccinated_per_hundred'] = combined_covid_data['people_fully_vaccinated_per_hundred'].fillna(\n",
    "    0)\n",
    "combined_covid_data['new_people_vaccinated_smoothed_per_hundred'] = combined_covid_data[\n",
    "    'new_people_vaccinated_smoothed_per_hundred'].fillna(0)\n",
    "\n",
    "combined_covid_data = combined_covid_data[combined_covid_data['stringency_index'].notna(\n",
    ")]\n",
    "\n",
    "combined_covid_data.shape\n"
   ]
  },
  {
   "cell_type": "markdown",
   "metadata": {},
   "source": [
    "Creating additional information column for the data record quaters."
   ]
  },
  {
   "cell_type": "code",
   "execution_count": 52,
   "metadata": {},
   "outputs": [],
   "source": [
    "combined_covid_data['quarter'] = pd.PeriodIndex(\n",
    "    combined_covid_data['date'], freq='Q')\n",
    "combined_covid_data['quarter'] = combined_covid_data['quarter'].astype(\n",
    "    'category')\n",
    "combined_covid_data['quarter'] = combined_covid_data['quarter'].cat.codes\n"
   ]
  },
  {
   "cell_type": "markdown",
   "metadata": {},
   "source": [
    "Update prediction target values to multicategory value for better classification results.</br>\n",
    "We can convert categorical values to numeric or one-hot-encoding for trying to get better results."
   ]
  },
  {
   "cell_type": "code",
   "execution_count": 53,
   "metadata": {},
   "outputs": [
    {
     "data": {
      "text/html": [
       "<div>\n",
       "<style scoped>\n",
       "    .dataframe tbody tr th:only-of-type {\n",
       "        vertical-align: middle;\n",
       "    }\n",
       "\n",
       "    .dataframe tbody tr th {\n",
       "        vertical-align: top;\n",
       "    }\n",
       "\n",
       "    .dataframe thead th {\n",
       "        text-align: right;\n",
       "    }\n",
       "</style>\n",
       "<table border=\"1\" class=\"dataframe\">\n",
       "  <thead>\n",
       "    <tr style=\"text-align: right;\">\n",
       "      <th></th>\n",
       "      <th>date</th>\n",
       "      <th>iso_code</th>\n",
       "      <th>new_cases_per_million</th>\n",
       "      <th>people_fully_vaccinated_per_hundred</th>\n",
       "      <th>new_people_vaccinated_smoothed_per_hundred</th>\n",
       "      <th>stringency_index</th>\n",
       "      <th>icu_patients_per_million</th>\n",
       "      <th>school_status</th>\n",
       "      <th>quarter</th>\n",
       "    </tr>\n",
       "  </thead>\n",
       "  <tbody>\n",
       "    <tr>\n",
       "      <th>0</th>\n",
       "      <td>2020-03-16</td>\n",
       "      <td>ALB</td>\n",
       "      <td>3.153</td>\n",
       "      <td>0.00</td>\n",
       "      <td>0.000</td>\n",
       "      <td>81.48</td>\n",
       "      <td>0.000</td>\n",
       "      <td>Closed due to COVID-19</td>\n",
       "      <td>0</td>\n",
       "    </tr>\n",
       "    <tr>\n",
       "      <th>1</th>\n",
       "      <td>2020-04-20</td>\n",
       "      <td>ALB</td>\n",
       "      <td>7.707</td>\n",
       "      <td>0.00</td>\n",
       "      <td>0.000</td>\n",
       "      <td>89.81</td>\n",
       "      <td>0.000</td>\n",
       "      <td>Academic break</td>\n",
       "      <td>1</td>\n",
       "    </tr>\n",
       "    <tr>\n",
       "      <th>2</th>\n",
       "      <td>2020-05-18</td>\n",
       "      <td>ALB</td>\n",
       "      <td>0.701</td>\n",
       "      <td>0.00</td>\n",
       "      <td>0.000</td>\n",
       "      <td>83.33</td>\n",
       "      <td>0.000</td>\n",
       "      <td>Partially open</td>\n",
       "      <td>1</td>\n",
       "    </tr>\n",
       "    <tr>\n",
       "      <th>3</th>\n",
       "      <td>2020-06-15</td>\n",
       "      <td>ALB</td>\n",
       "      <td>24.171</td>\n",
       "      <td>0.00</td>\n",
       "      <td>0.000</td>\n",
       "      <td>71.30</td>\n",
       "      <td>0.000</td>\n",
       "      <td>Partially open</td>\n",
       "      <td>1</td>\n",
       "    </tr>\n",
       "    <tr>\n",
       "      <th>4</th>\n",
       "      <td>2020-07-20</td>\n",
       "      <td>ALB</td>\n",
       "      <td>28.374</td>\n",
       "      <td>0.00</td>\n",
       "      <td>0.000</td>\n",
       "      <td>62.96</td>\n",
       "      <td>0.000</td>\n",
       "      <td>Academic break</td>\n",
       "      <td>2</td>\n",
       "    </tr>\n",
       "    <tr>\n",
       "      <th>...</th>\n",
       "      <td>...</td>\n",
       "      <td>...</td>\n",
       "      <td>...</td>\n",
       "      <td>...</td>\n",
       "      <td>...</td>\n",
       "      <td>...</td>\n",
       "      <td>...</td>\n",
       "      <td>...</td>\n",
       "      <td>...</td>\n",
       "    </tr>\n",
       "    <tr>\n",
       "      <th>5512</th>\n",
       "      <td>2021-11-29</td>\n",
       "      <td>GBR</td>\n",
       "      <td>626.387</td>\n",
       "      <td>68.92</td>\n",
       "      <td>0.035</td>\n",
       "      <td>43.57</td>\n",
       "      <td>13.615</td>\n",
       "      <td>Fully open</td>\n",
       "      <td>7</td>\n",
       "    </tr>\n",
       "    <tr>\n",
       "      <th>5513</th>\n",
       "      <td>2021-12-06</td>\n",
       "      <td>GBR</td>\n",
       "      <td>755.785</td>\n",
       "      <td>69.24</td>\n",
       "      <td>0.037</td>\n",
       "      <td>43.55</td>\n",
       "      <td>13.392</td>\n",
       "      <td>Fully open</td>\n",
       "      <td>7</td>\n",
       "    </tr>\n",
       "    <tr>\n",
       "      <th>5514</th>\n",
       "      <td>2021-12-13</td>\n",
       "      <td>GBR</td>\n",
       "      <td>801.905</td>\n",
       "      <td>69.57</td>\n",
       "      <td>0.034</td>\n",
       "      <td>43.54</td>\n",
       "      <td>13.377</td>\n",
       "      <td>Fully open</td>\n",
       "      <td>7</td>\n",
       "    </tr>\n",
       "    <tr>\n",
       "      <th>5515</th>\n",
       "      <td>2021-12-20</td>\n",
       "      <td>GBR</td>\n",
       "      <td>1363.445</td>\n",
       "      <td>70.01</td>\n",
       "      <td>0.051</td>\n",
       "      <td>40.74</td>\n",
       "      <td>12.767</td>\n",
       "      <td>Fully open</td>\n",
       "      <td>7</td>\n",
       "    </tr>\n",
       "    <tr>\n",
       "      <th>5516</th>\n",
       "      <td>2021-12-27</td>\n",
       "      <td>GBR</td>\n",
       "      <td>1600.733</td>\n",
       "      <td>70.29</td>\n",
       "      <td>0.031</td>\n",
       "      <td>44.06</td>\n",
       "      <td>12.931</td>\n",
       "      <td>Academic break</td>\n",
       "      <td>7</td>\n",
       "    </tr>\n",
       "  </tbody>\n",
       "</table>\n",
       "<p>2677 rows × 9 columns</p>\n",
       "</div>"
      ],
      "text/plain": [
       "           date iso_code  new_cases_per_million  \\\n",
       "0    2020-03-16      ALB                  3.153   \n",
       "1    2020-04-20      ALB                  7.707   \n",
       "2    2020-05-18      ALB                  0.701   \n",
       "3    2020-06-15      ALB                 24.171   \n",
       "4    2020-07-20      ALB                 28.374   \n",
       "...         ...      ...                    ...   \n",
       "5512 2021-11-29      GBR                626.387   \n",
       "5513 2021-12-06      GBR                755.785   \n",
       "5514 2021-12-13      GBR                801.905   \n",
       "5515 2021-12-20      GBR               1363.445   \n",
       "5516 2021-12-27      GBR               1600.733   \n",
       "\n",
       "      people_fully_vaccinated_per_hundred  \\\n",
       "0                                    0.00   \n",
       "1                                    0.00   \n",
       "2                                    0.00   \n",
       "3                                    0.00   \n",
       "4                                    0.00   \n",
       "...                                   ...   \n",
       "5512                                68.92   \n",
       "5513                                69.24   \n",
       "5514                                69.57   \n",
       "5515                                70.01   \n",
       "5516                                70.29   \n",
       "\n",
       "      new_people_vaccinated_smoothed_per_hundred  stringency_index  \\\n",
       "0                                          0.000             81.48   \n",
       "1                                          0.000             89.81   \n",
       "2                                          0.000             83.33   \n",
       "3                                          0.000             71.30   \n",
       "4                                          0.000             62.96   \n",
       "...                                          ...               ...   \n",
       "5512                                       0.035             43.57   \n",
       "5513                                       0.037             43.55   \n",
       "5514                                       0.034             43.54   \n",
       "5515                                       0.051             40.74   \n",
       "5516                                       0.031             44.06   \n",
       "\n",
       "      icu_patients_per_million           school_status  quarter  \n",
       "0                        0.000  Closed due to COVID-19        0  \n",
       "1                        0.000          Academic break        1  \n",
       "2                        0.000          Partially open        1  \n",
       "3                        0.000          Partially open        1  \n",
       "4                        0.000          Academic break        2  \n",
       "...                        ...                     ...      ...  \n",
       "5512                    13.615              Fully open        7  \n",
       "5513                    13.392              Fully open        7  \n",
       "5514                    13.377              Fully open        7  \n",
       "5515                    12.767              Fully open        7  \n",
       "5516                    12.931          Academic break        7  \n",
       "\n",
       "[2677 rows x 9 columns]"
      ]
     },
     "execution_count": 53,
     "metadata": {},
     "output_type": "execute_result"
    }
   ],
   "source": [
    "combined_covid_data[\"school_status\"] = combined_covid_data[\"school_status\"].astype(\n",
    "    \"category\")\n",
    "#combined_covid_data[\"school_status\"] = combined_covid_data[\"school_status\"].cat.codes\n",
    "combined_covid_data\n"
   ]
  },
  {
   "cell_type": "markdown",
   "metadata": {},
   "source": [
    "Quick review of combined and prepared data set. Ensuring that no undefined values are left."
   ]
  },
  {
   "cell_type": "code",
   "execution_count": 54,
   "metadata": {},
   "outputs": [
    {
     "name": "stdout",
     "output_type": "stream",
     "text": [
      "<class 'pandas.core.frame.DataFrame'>\n",
      "Int64Index: 2677 entries, 0 to 5516\n",
      "Data columns (total 9 columns):\n",
      " #   Column                                      Non-Null Count  Dtype         \n",
      "---  ------                                      --------------  -----         \n",
      " 0   date                                        2677 non-null   datetime64[ns]\n",
      " 1   iso_code                                    2677 non-null   object        \n",
      " 2   new_cases_per_million                       2677 non-null   float64       \n",
      " 3   people_fully_vaccinated_per_hundred         2677 non-null   float64       \n",
      " 4   new_people_vaccinated_smoothed_per_hundred  2677 non-null   float64       \n",
      " 5   stringency_index                            2677 non-null   float64       \n",
      " 6   icu_patients_per_million                    2677 non-null   float64       \n",
      " 7   school_status                               2677 non-null   category      \n",
      " 8   quarter                                     2677 non-null   int8          \n",
      "dtypes: category(1), datetime64[ns](1), float64(5), int8(1), object(1)\n",
      "memory usage: 172.7+ KB\n"
     ]
    }
   ],
   "source": [
    "combined_covid_data.info()\n"
   ]
  },
  {
   "cell_type": "markdown",
   "metadata": {},
   "source": [
    "### Quick correlation visualisation"
   ]
  },
  {
   "cell_type": "code",
   "execution_count": 55,
   "metadata": {},
   "outputs": [
    {
     "data": {
      "image/png": "[encoded data removed]",
      "text/plain": [
       "<Figure size 432x288 with 2 Axes>"
      ]
     },
     "metadata": {
      "needs_background": "light"
     },
     "output_type": "display_data"
    }
   ],
   "source": [
    "plt.figure()\n",
    "sns.heatmap(combined_covid_data.corr(), cmap=cmap_color)\n",
    "plt.show()\n"
   ]
  },
  {
   "cell_type": "markdown",
   "metadata": {},
   "source": [
    "### Creating and training the classification models"
   ]
  },
  {
   "cell_type": "code",
   "execution_count": 56,
   "metadata": {},
   "outputs": [],
   "source": [
    "X_train, X_test, y_train, y_test = train_test_split(combined_covid_data[['new_cases_per_million',\n",
    "                                                                         'people_fully_vaccinated_per_hundred', 'new_people_vaccinated_smoothed_per_hundred',\n",
    "                                                                         'stringency_index', 'icu_patients_per_million', 'quarter']],\n",
    "                                                    combined_covid_data[[\n",
    "                                                        'school_status']],\n",
    "                                                    test_size=0.3, random_state=15, shuffle=True)\n"
   ]
  },
  {
   "cell_type": "markdown",
   "metadata": {},
   "source": [
    "Selecting the models for classification predictions.</br>\n",
    "Models for multiclass classification had been selected based on [website](https://www.geeksforgeeks.org/multiclass-classification-using-scikit-learn/)"
   ]
  },
  {
   "cell_type": "code",
   "execution_count": 57,
   "metadata": {},
   "outputs": [],
   "source": [
    "from sklearn.neighbors import KNeighborsClassifier\n",
    "from sklearn.ensemble import RandomForestClassifier\n",
    "from sklearn.naive_bayes import GaussianNB\n",
    "from sklearn.tree import DecisionTreeClassifier\n",
    "\n",
    "classification_models = [\n",
    "    ('DecisionTreeClassifier', DecisionTreeClassifier()),\n",
    "    ('KNeighborsClassifier', KNeighborsClassifier(n_neighbors=7)),\n",
    "    ('GaussianNB', GaussianNB()),\n",
    "    ('RandomForestClassifier', RandomForestClassifier())\n",
    "]\n"
   ]
  },
  {
   "cell_type": "markdown",
   "metadata": {},
   "source": [
    "Define a helper function for visualising classification results:"
   ]
  },
  {
   "cell_type": "code",
   "execution_count": 58,
   "metadata": {},
   "outputs": [],
   "source": [
    "def plot_confusion_matrix_res(title: str, matrix_range: tuple, y_test, test_set_pred):\n",
    "    prediction_conf_matrix = confusion_matrix(y_test, test_set_pred)\n",
    "    confusion_matrix_df = pd.DataFrame(\n",
    "        prediction_conf_matrix, range(matrix_range[0]), range(matrix_range[1]))\n",
    "\n",
    "    plt.figure(figsize=default_figsize)\n",
    "    sns.heatmap(confusion_matrix_df/np.sum(confusion_matrix_df),\n",
    "                cmap=cmap_color, fmt='.2%', annot=True)\n",
    "    plt.title(title)\n",
    "    plt.xlabel('True label')\n",
    "    plt.ylabel('Predicted label')\n",
    "    plt.show()\n"
   ]
  },
  {
   "cell_type": "code",
   "execution_count": 59,
   "metadata": {},
   "outputs": [],
   "source": [
    "def get_model_results_row(name, model_score, model_balanced_score, model_f1_score):\n",
    "    round_precision = 3\n",
    "\n",
    "    return {\n",
    "        'model': name,\n",
    "        'balanced_score': round(model_balanced_score, round_precision),\n",
    "        'model_f1_score': round(model_f1_score, round_precision),\n",
    "        'score': round(model_score, round_precision)\n",
    "    }\n"
   ]
  },
  {
   "cell_type": "code",
   "execution_count": 60,
   "metadata": {},
   "outputs": [],
   "source": [
    "def analyze_classification_models(X_train: pd.DataFrame, y_train: pd.DataFrame, X_test: pd.DataFrame, y_test: pd.DataFrame,\n",
    "                                  models: list, scale_data=True) -> pd.DataFrame:\n",
    "    # Formatting target values for classification into an expected format\n",
    "    y_train = y_train.values.ravel()\n",
    "    y_test = y_test.values.ravel()\n",
    "\n",
    "    results = []\n",
    "    for name, model in models:\n",
    "\n",
    "        if scale_data:\n",
    "            scaler = StandardScaler()\n",
    "            X_train = scaler.fit_transform(X_train)\n",
    "            X_test = scaler.transform(X_test)\n",
    "\n",
    "        fully_trained_model = model.fit(X_train, y_train)\n",
    "        test_set_pred = fully_trained_model.predict(X_test)\n",
    "\n",
    "        model_score = fully_trained_model.score(X_test, y_test)\n",
    "        model_balanced_score = balanced_accuracy_score(\n",
    "            y_test, test_set_pred)\n",
    "        model_f1_score = f1_score(y_test, test_set_pred, average='macro')\n",
    "\n",
    "        plot_confusion_matrix_res(\n",
    "            f'Confusion matrix for {name} model\\nAccuracy {round(model_score, 3)}', (4, 4), y_test, test_set_pred)\n",
    "\n",
    "        model_results = get_model_results_row(\n",
    "            name, model_score, model_balanced_score, model_f1_score)\n",
    "        results.append(model_results)\n",
    "    return pd.DataFrame(results)\n"
   ]
  },
  {
   "cell_type": "code",
   "execution_count": 61,
   "metadata": {},
   "outputs": [
    {
     "data": {
      "image/png": "[encoded data removed]",
      "text/plain": [
       "<Figure size 576x432 with 2 Axes>"
      ]
     },
     "metadata": {
      "needs_background": "light"
     },
     "output_type": "display_data"
    },
    {
     "data": {
      "image/png": "[encoded data removed]",
      "text/plain": [
       "<Figure size 576x432 with 2 Axes>"
      ]
     },
     "metadata": {
      "needs_background": "light"
     },
     "output_type": "display_data"
    },
    {
     "data": {
      "image/png": "[encoded data removed]",
      "text/plain": [
       "<Figure size 576x432 with 2 Axes>"
      ]
     },
     "metadata": {
      "needs_background": "light"
     },
     "output_type": "display_data"
    },
    {
     "data": {
      "image/png": "[encoded data removed]",
      "text/plain": [
       "<Figure size 576x432 with 2 Axes>"
      ]
     },
     "metadata": {
      "needs_background": "light"
     },
     "output_type": "display_data"
    }
   ],
   "source": [
    "classification_results = analyze_classification_models(\n",
    "    X_train, y_train, X_test, y_test, classification_models)\n"
   ]
  },
  {
   "cell_type": "code",
   "execution_count": 62,
   "metadata": {},
   "outputs": [
    {
     "data": {
      "text/html": [
       "<div>\n",
       "<style scoped>\n",
       "    .dataframe tbody tr th:only-of-type {\n",
       "        vertical-align: middle;\n",
       "    }\n",
       "\n",
       "    .dataframe tbody tr th {\n",
       "        vertical-align: top;\n",
       "    }\n",
       "\n",
       "    .dataframe thead th {\n",
       "        text-align: right;\n",
       "    }\n",
       "</style>\n",
       "<table border=\"1\" class=\"dataframe\">\n",
       "  <thead>\n",
       "    <tr style=\"text-align: right;\">\n",
       "      <th></th>\n",
       "      <th>model</th>\n",
       "      <th>balanced_score</th>\n",
       "      <th>model_f1_score</th>\n",
       "      <th>score</th>\n",
       "    </tr>\n",
       "  </thead>\n",
       "  <tbody>\n",
       "    <tr>\n",
       "      <th>0</th>\n",
       "      <td>DecisionTreeClassifier</td>\n",
       "      <td>0.608</td>\n",
       "      <td>0.592</td>\n",
       "      <td>0.634</td>\n",
       "    </tr>\n",
       "    <tr>\n",
       "      <th>1</th>\n",
       "      <td>KNeighborsClassifier</td>\n",
       "      <td>0.575</td>\n",
       "      <td>0.576</td>\n",
       "      <td>0.622</td>\n",
       "    </tr>\n",
       "    <tr>\n",
       "      <th>2</th>\n",
       "      <td>GaussianNB</td>\n",
       "      <td>0.439</td>\n",
       "      <td>0.347</td>\n",
       "      <td>0.440</td>\n",
       "    </tr>\n",
       "    <tr>\n",
       "      <th>3</th>\n",
       "      <td>RandomForestClassifier</td>\n",
       "      <td>0.681</td>\n",
       "      <td>0.670</td>\n",
       "      <td>0.709</td>\n",
       "    </tr>\n",
       "  </tbody>\n",
       "</table>\n",
       "</div>"
      ],
      "text/plain": [
       "                    model  balanced_score  model_f1_score  score\n",
       "0  DecisionTreeClassifier           0.608           0.592  0.634\n",
       "1    KNeighborsClassifier           0.575           0.576  0.622\n",
       "2              GaussianNB           0.439           0.347  0.440\n",
       "3  RandomForestClassifier           0.681           0.670  0.709"
      ]
     },
     "execution_count": 62,
     "metadata": {},
     "output_type": "execute_result"
    }
   ],
   "source": [
    "classification_results"
   ]
  },
  {
   "cell_type": "code",
   "execution_count": 63,
   "metadata": {},
   "outputs": [
    {
     "data": {
      "image/png": "[encoded data removed]",
      "text/plain": [
       "<Figure size 1008x432 with 1 Axes>"
      ]
     },
     "metadata": {
      "needs_background": "light"
     },
     "output_type": "display_data"
    }
   ],
   "source": [
    "plot_model_results_metrics(classification_results, 'model',\n",
    "                           'model_f1_score', 'F1 score',\n",
    "                           'score', 'Classification score',\n",
    "                           'Accuracy score for each model', 'Accuracy score metrics')"
   ]
  },
  {
   "cell_type": "markdown",
   "metadata": {},
   "source": [
    "From the result metrics we can see that school responses had definitely correlated with the new covid cases in the European continent.</br></br>\n",
    "It is expected not to have a perfect classification result as each country had their own adaptation system with the Covid-19 situation. Additionally, vaccinations got improved and introduced. Over time popularity also started to gain immunity as a community. Last but not least, it was quite common for each country to try and reopen schools as soon as possible in order to keep up with educational status."
   ]
  }
 ],
 "metadata": {
  "kernelspec": {
   "display_name": "Python 3.10.5 64-bit",
   "language": "python",
   "name": "python3"
  },
  "language_info": {
   "codemirror_mode": {
    "name": "ipython",
    "version": 3
   },
   "file_extension": ".py",
   "mimetype": "text/x-python",
   "name": "python",
   "nbconvert_exporter": "python",
   "pygments_lexer": "ipython3",
   "version": "3.10.5"
  },
  "vscode": {
   "interpreter": {
    "hash": "33e626c8fa6f768a14de29674c5bce3db42baaf773ebe693859f162e50fb90ba"
   }
  }
 },
 "nbformat": 4,
 "nbformat_minor": 4
}
